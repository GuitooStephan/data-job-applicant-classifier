{
 "cells": [
  {
   "cell_type": "code",
   "execution_count": 1,
   "id": "b7d33040",
   "metadata": {
    "ExecuteTime": {
     "end_time": "2022-06-07T12:49:46.182199Z",
     "start_time": "2022-06-07T12:49:45.097289Z"
    }
   },
   "outputs": [],
   "source": [
    "import pandas as pd\n",
    "import numpy as np\n",
    "import seaborn as sns\n",
    "import matplotlib.pyplot as plt\n",
    "from re import search\n",
    "import warnings\n",
    "\n",
    "pd.set_option(\"display.max_columns\", None)\n",
    "pd.set_option('display.max_rows', None)\n",
    "warnings.filterwarnings('ignore')"
   ]
  },
  {
   "cell_type": "code",
   "execution_count": 2,
   "id": "909fbfda",
   "metadata": {
    "ExecuteTime": {
     "end_time": "2022-06-07T12:49:46.200471Z",
     "start_time": "2022-06-07T12:49:46.183333Z"
    }
   },
   "outputs": [
    {
     "data": {
      "text/html": [
       "<div>\n",
       "<style scoped>\n",
       "    .dataframe tbody tr th:only-of-type {\n",
       "        vertical-align: middle;\n",
       "    }\n",
       "\n",
       "    .dataframe tbody tr th {\n",
       "        vertical-align: top;\n",
       "    }\n",
       "\n",
       "    .dataframe thead th {\n",
       "        text-align: right;\n",
       "    }\n",
       "</style>\n",
       "<table border=\"1\" class=\"dataframe\">\n",
       "  <thead>\n",
       "    <tr style=\"text-align: right;\">\n",
       "      <th></th>\n",
       "      <th>Entreprise</th>\n",
       "      <th>Metier</th>\n",
       "      <th>Technologies</th>\n",
       "      <th>Diplome</th>\n",
       "      <th>Experience</th>\n",
       "      <th>Ville</th>\n",
       "    </tr>\n",
       "  </thead>\n",
       "  <tbody>\n",
       "    <tr>\n",
       "      <th>162</th>\n",
       "      <td>JUUL Labs</td>\n",
       "      <td>Data engineer</td>\n",
       "      <td>MariaDB/MongoDB/NoSQ/SQL/Hadoop/Hive</td>\n",
       "      <td>Master</td>\n",
       "      <td>2</td>\n",
       "      <td>Paris</td>\n",
       "    </tr>\n",
       "    <tr>\n",
       "      <th>6484</th>\n",
       "      <td>NaN</td>\n",
       "      <td>Data scientist</td>\n",
       "      <td>SPSS/Excel/SAS/R/machine learning/AI/Scoring</td>\n",
       "      <td>Master</td>\n",
       "      <td>0,5</td>\n",
       "      <td>Lille</td>\n",
       "    </tr>\n",
       "    <tr>\n",
       "      <th>6298</th>\n",
       "      <td>NaN</td>\n",
       "      <td>Data scientist</td>\n",
       "      <td>R/machine learning/Excel/VBA</td>\n",
       "      <td>MSc</td>\n",
       "      <td>3,5</td>\n",
       "      <td>Marseille</td>\n",
       "    </tr>\n",
       "    <tr>\n",
       "      <th>5920</th>\n",
       "      <td>University of Texas at Austin</td>\n",
       "      <td>Data scientist</td>\n",
       "      <td>R/Python/Spark/Pycharm/SAS/SQL</td>\n",
       "      <td>PhD</td>\n",
       "      <td>NaN</td>\n",
       "      <td>Paris</td>\n",
       "    </tr>\n",
       "    <tr>\n",
       "      <th>2390</th>\n",
       "      <td>ICF</td>\n",
       "      <td>Data scientist</td>\n",
       "      <td>Excel/Python/Matlab/R/machine learning/anglais</td>\n",
       "      <td>MSc</td>\n",
       "      <td>2,5</td>\n",
       "      <td>Nantes</td>\n",
       "    </tr>\n",
       "  </tbody>\n",
       "</table>\n",
       "</div>"
      ],
      "text/plain": [
       "                         Entreprise          Metier  \\\n",
       "162                       JUUL Labs   Data engineer   \n",
       "6484                            NaN  Data scientist   \n",
       "6298                            NaN  Data scientist   \n",
       "5920  University of Texas at Austin  Data scientist   \n",
       "2390                            ICF  Data scientist   \n",
       "\n",
       "                                        Technologies Diplome Experience  \\\n",
       "162             MariaDB/MongoDB/NoSQ/SQL/Hadoop/Hive  Master          2   \n",
       "6484    SPSS/Excel/SAS/R/machine learning/AI/Scoring  Master        0,5   \n",
       "6298                    R/machine learning/Excel/VBA     MSc        3,5   \n",
       "5920                  R/Python/Spark/Pycharm/SAS/SQL     PhD        NaN   \n",
       "2390  Excel/Python/Matlab/R/machine learning/anglais     MSc        2,5   \n",
       "\n",
       "          Ville  \n",
       "162       Paris  \n",
       "6484      Lille  \n",
       "6298  Marseille  \n",
       "5920      Paris  \n",
       "2390     Nantes  "
      ]
     },
     "execution_count": 2,
     "metadata": {},
     "output_type": "execute_result"
    }
   ],
   "source": [
    "raw = pd.read_csv('./dataset_train_test.csv', sep=';')\n",
    "raw.sample(n=5)"
   ]
  },
  {
   "cell_type": "code",
   "execution_count": 3,
   "id": "64d6516a",
   "metadata": {
    "ExecuteTime": {
     "end_time": "2022-06-07T12:49:46.203583Z",
     "start_time": "2022-06-07T12:49:46.201451Z"
    }
   },
   "outputs": [
    {
     "data": {
      "text/plain": [
       "9562"
      ]
     },
     "execution_count": 3,
     "metadata": {},
     "output_type": "execute_result"
    }
   ],
   "source": [
    "len(raw)"
   ]
  },
  {
   "cell_type": "code",
   "execution_count": 4,
   "id": "0410c352",
   "metadata": {
    "ExecuteTime": {
     "end_time": "2022-06-07T12:49:46.215393Z",
     "start_time": "2022-06-07T12:49:46.205039Z"
    }
   },
   "outputs": [
    {
     "name": "stdout",
     "output_type": "stream",
     "text": [
      "<class 'pandas.core.frame.DataFrame'>\n",
      "RangeIndex: 9562 entries, 0 to 9561\n",
      "Data columns (total 6 columns):\n",
      " #   Column        Non-Null Count  Dtype \n",
      "---  ------        --------------  ----- \n",
      " 0   Entreprise    7636 non-null   object\n",
      " 1   Metier        9562 non-null   object\n",
      " 2   Technologies  9562 non-null   object\n",
      " 3   Diplome       9562 non-null   object\n",
      " 4   Experience    8531 non-null   object\n",
      " 5   Ville         9562 non-null   object\n",
      "dtypes: object(6)\n",
      "memory usage: 448.3+ KB\n"
     ]
    }
   ],
   "source": [
    "raw.info()"
   ]
  },
  {
   "cell_type": "code",
   "execution_count": 5,
   "id": "e605f842",
   "metadata": {
    "ExecuteTime": {
     "end_time": "2022-06-07T12:49:46.224537Z",
     "start_time": "2022-06-07T12:49:46.216205Z"
    }
   },
   "outputs": [
    {
     "data": {
      "text/html": [
       "<div>\n",
       "<style scoped>\n",
       "    .dataframe tbody tr th:only-of-type {\n",
       "        vertical-align: middle;\n",
       "    }\n",
       "\n",
       "    .dataframe tbody tr th {\n",
       "        vertical-align: top;\n",
       "    }\n",
       "\n",
       "    .dataframe thead th {\n",
       "        text-align: right;\n",
       "    }\n",
       "</style>\n",
       "<table border=\"1\" class=\"dataframe\">\n",
       "  <thead>\n",
       "    <tr style=\"text-align: right;\">\n",
       "      <th></th>\n",
       "      <th>Entreprise</th>\n",
       "      <th>Metier</th>\n",
       "      <th>Technologies</th>\n",
       "      <th>Diplome</th>\n",
       "      <th>Experience</th>\n",
       "      <th>Ville</th>\n",
       "    </tr>\n",
       "  </thead>\n",
       "  <tbody>\n",
       "    <tr>\n",
       "      <th>7197</th>\n",
       "      <td>Workbridge Associates</td>\n",
       "      <td>Data scientist</td>\n",
       "      <td>Excel/VBA/R</td>\n",
       "      <td>Master</td>\n",
       "      <td>0.5</td>\n",
       "      <td>Lyon</td>\n",
       "    </tr>\n",
       "    <tr>\n",
       "      <th>545</th>\n",
       "      <td>Mathematica Policy Research</td>\n",
       "      <td>Data engineer</td>\n",
       "      <td>Python/Java/Linux/GNU</td>\n",
       "      <td>Bachelor</td>\n",
       "      <td>0.5</td>\n",
       "      <td>Lyon</td>\n",
       "    </tr>\n",
       "    <tr>\n",
       "      <th>2836</th>\n",
       "      <td>Moxie Interactive, Inc.</td>\n",
       "      <td>Lead data scientist</td>\n",
       "      <td>R/Python/Spark/Pycharm/SAS/SQL</td>\n",
       "      <td>Bachelor</td>\n",
       "      <td>4.0</td>\n",
       "      <td>Lyon</td>\n",
       "    </tr>\n",
       "    <tr>\n",
       "      <th>9065</th>\n",
       "      <td>Health &amp; Human Services Comm</td>\n",
       "      <td>Data architecte</td>\n",
       "      <td>Java/Python/Linux</td>\n",
       "      <td>Master</td>\n",
       "      <td>4.0</td>\n",
       "      <td>Bordeaux</td>\n",
       "    </tr>\n",
       "    <tr>\n",
       "      <th>9427</th>\n",
       "      <td>NaN</td>\n",
       "      <td>Data engineer</td>\n",
       "      <td>Java/Linux/GNU/Docker</td>\n",
       "      <td>Master</td>\n",
       "      <td>1.5</td>\n",
       "      <td>Marseille</td>\n",
       "    </tr>\n",
       "  </tbody>\n",
       "</table>\n",
       "</div>"
      ],
      "text/plain": [
       "                        Entreprise               Metier  \\\n",
       "7197         Workbridge Associates       Data scientist   \n",
       "545    Mathematica Policy Research        Data engineer   \n",
       "2836       Moxie Interactive, Inc.  Lead data scientist   \n",
       "9065  Health & Human Services Comm      Data architecte   \n",
       "9427                           NaN        Data engineer   \n",
       "\n",
       "                        Technologies   Diplome  Experience      Ville  \n",
       "7197                     Excel/VBA/R    Master         0.5       Lyon  \n",
       "545            Python/Java/Linux/GNU  Bachelor         0.5       Lyon  \n",
       "2836  R/Python/Spark/Pycharm/SAS/SQL  Bachelor         4.0       Lyon  \n",
       "9065               Java/Python/Linux    Master         4.0   Bordeaux  \n",
       "9427           Java/Linux/GNU/Docker    Master         1.5  Marseille  "
      ]
     },
     "execution_count": 5,
     "metadata": {},
     "output_type": "execute_result"
    }
   ],
   "source": [
    "# Change the data type of the experience\n",
    "raw['Experience'] = raw['Experience'].apply(\n",
    "    lambda x : float(str(x).replace(',', '.')),\n",
    ").astype(float)\n",
    "raw.sample(n=5)"
   ]
  },
  {
   "cell_type": "code",
   "execution_count": 6,
   "id": "17049efc",
   "metadata": {
    "ExecuteTime": {
     "end_time": "2022-06-07T12:49:46.236169Z",
     "start_time": "2022-06-07T12:49:46.225655Z"
    }
   },
   "outputs": [
    {
     "name": "stdout",
     "output_type": "stream",
     "text": [
      "<class 'pandas.core.frame.DataFrame'>\n",
      "RangeIndex: 9562 entries, 0 to 9561\n",
      "Data columns (total 6 columns):\n",
      " #   Column        Non-Null Count  Dtype  \n",
      "---  ------        --------------  -----  \n",
      " 0   Entreprise    7636 non-null   object \n",
      " 1   Metier        9562 non-null   object \n",
      " 2   Technologies  9562 non-null   object \n",
      " 3   Diplome       9562 non-null   object \n",
      " 4   Experience    8531 non-null   float64\n",
      " 5   Ville         9562 non-null   object \n",
      "dtypes: float64(1), object(5)\n",
      "memory usage: 448.3+ KB\n"
     ]
    }
   ],
   "source": [
    "raw.info()"
   ]
  },
  {
   "cell_type": "code",
   "execution_count": 7,
   "id": "ae86d3a9",
   "metadata": {
    "ExecuteTime": {
     "end_time": "2022-06-07T12:49:46.249898Z",
     "start_time": "2022-06-07T12:49:46.237095Z"
    }
   },
   "outputs": [
    {
     "data": {
      "text/html": [
       "<div>\n",
       "<style scoped>\n",
       "    .dataframe tbody tr th:only-of-type {\n",
       "        vertical-align: middle;\n",
       "    }\n",
       "\n",
       "    .dataframe tbody tr th {\n",
       "        vertical-align: top;\n",
       "    }\n",
       "\n",
       "    .dataframe thead th {\n",
       "        text-align: right;\n",
       "    }\n",
       "</style>\n",
       "<table border=\"1\" class=\"dataframe\">\n",
       "  <thead>\n",
       "    <tr style=\"text-align: right;\">\n",
       "      <th></th>\n",
       "      <th>Entreprise</th>\n",
       "      <th>Metier</th>\n",
       "      <th>Technologies</th>\n",
       "      <th>Diplome</th>\n",
       "      <th>Experience</th>\n",
       "      <th>Ville</th>\n",
       "    </tr>\n",
       "  </thead>\n",
       "  <tbody>\n",
       "    <tr>\n",
       "      <th>count</th>\n",
       "      <td>7636</td>\n",
       "      <td>9562</td>\n",
       "      <td>9562</td>\n",
       "      <td>9562</td>\n",
       "      <td>8531.000000</td>\n",
       "      <td>9562</td>\n",
       "    </tr>\n",
       "    <tr>\n",
       "      <th>unique</th>\n",
       "      <td>1320</td>\n",
       "      <td>4</td>\n",
       "      <td>57</td>\n",
       "      <td>13</td>\n",
       "      <td>NaN</td>\n",
       "      <td>14</td>\n",
       "    </tr>\n",
       "    <tr>\n",
       "      <th>top</th>\n",
       "      <td>Ball Aerospace</td>\n",
       "      <td>Data scientist</td>\n",
       "      <td>SQL/R/Python//Big data</td>\n",
       "      <td>Master</td>\n",
       "      <td>NaN</td>\n",
       "      <td>Paris</td>\n",
       "    </tr>\n",
       "    <tr>\n",
       "      <th>freq</th>\n",
       "      <td>598</td>\n",
       "      <td>3865</td>\n",
       "      <td>539</td>\n",
       "      <td>3314</td>\n",
       "      <td>NaN</td>\n",
       "      <td>2011</td>\n",
       "    </tr>\n",
       "    <tr>\n",
       "      <th>mean</th>\n",
       "      <td>NaN</td>\n",
       "      <td>NaN</td>\n",
       "      <td>NaN</td>\n",
       "      <td>NaN</td>\n",
       "      <td>2.812449</td>\n",
       "      <td>NaN</td>\n",
       "    </tr>\n",
       "    <tr>\n",
       "      <th>std</th>\n",
       "      <td>NaN</td>\n",
       "      <td>NaN</td>\n",
       "      <td>NaN</td>\n",
       "      <td>NaN</td>\n",
       "      <td>2.706185</td>\n",
       "      <td>NaN</td>\n",
       "    </tr>\n",
       "    <tr>\n",
       "      <th>min</th>\n",
       "      <td>NaN</td>\n",
       "      <td>NaN</td>\n",
       "      <td>NaN</td>\n",
       "      <td>NaN</td>\n",
       "      <td>0.000000</td>\n",
       "      <td>NaN</td>\n",
       "    </tr>\n",
       "    <tr>\n",
       "      <th>25%</th>\n",
       "      <td>NaN</td>\n",
       "      <td>NaN</td>\n",
       "      <td>NaN</td>\n",
       "      <td>NaN</td>\n",
       "      <td>1.000000</td>\n",
       "      <td>NaN</td>\n",
       "    </tr>\n",
       "    <tr>\n",
       "      <th>50%</th>\n",
       "      <td>NaN</td>\n",
       "      <td>NaN</td>\n",
       "      <td>NaN</td>\n",
       "      <td>NaN</td>\n",
       "      <td>2.000000</td>\n",
       "      <td>NaN</td>\n",
       "    </tr>\n",
       "    <tr>\n",
       "      <th>75%</th>\n",
       "      <td>NaN</td>\n",
       "      <td>NaN</td>\n",
       "      <td>NaN</td>\n",
       "      <td>NaN</td>\n",
       "      <td>3.500000</td>\n",
       "      <td>NaN</td>\n",
       "    </tr>\n",
       "    <tr>\n",
       "      <th>max</th>\n",
       "      <td>NaN</td>\n",
       "      <td>NaN</td>\n",
       "      <td>NaN</td>\n",
       "      <td>NaN</td>\n",
       "      <td>21.000000</td>\n",
       "      <td>NaN</td>\n",
       "    </tr>\n",
       "  </tbody>\n",
       "</table>\n",
       "</div>"
      ],
      "text/plain": [
       "            Entreprise          Metier            Technologies Diplome  \\\n",
       "count             7636            9562                    9562    9562   \n",
       "unique            1320               4                      57      13   \n",
       "top     Ball Aerospace  Data scientist  SQL/R/Python//Big data  Master   \n",
       "freq               598            3865                     539    3314   \n",
       "mean               NaN             NaN                     NaN     NaN   \n",
       "std                NaN             NaN                     NaN     NaN   \n",
       "min                NaN             NaN                     NaN     NaN   \n",
       "25%                NaN             NaN                     NaN     NaN   \n",
       "50%                NaN             NaN                     NaN     NaN   \n",
       "75%                NaN             NaN                     NaN     NaN   \n",
       "max                NaN             NaN                     NaN     NaN   \n",
       "\n",
       "         Experience  Ville  \n",
       "count   8531.000000   9562  \n",
       "unique          NaN     14  \n",
       "top             NaN  Paris  \n",
       "freq            NaN   2011  \n",
       "mean       2.812449    NaN  \n",
       "std        2.706185    NaN  \n",
       "min        0.000000    NaN  \n",
       "25%        1.000000    NaN  \n",
       "50%        2.000000    NaN  \n",
       "75%        3.500000    NaN  \n",
       "max       21.000000    NaN  "
      ]
     },
     "execution_count": 7,
     "metadata": {},
     "output_type": "execute_result"
    }
   ],
   "source": [
    "raw.describe(include='all')"
   ]
  },
  {
   "cell_type": "code",
   "execution_count": 8,
   "id": "719798db",
   "metadata": {
    "ExecuteTime": {
     "end_time": "2022-06-07T12:49:46.257651Z",
     "start_time": "2022-06-07T12:49:46.250818Z"
    }
   },
   "outputs": [
    {
     "data": {
      "text/plain": [
       "Entreprise      1926\n",
       "Metier             0\n",
       "Technologies       0\n",
       "Diplome            0\n",
       "Experience      1031\n",
       "Ville              0\n",
       "dtype: int64"
      ]
     },
     "execution_count": 8,
     "metadata": {},
     "output_type": "execute_result"
    }
   ],
   "source": [
    "raw.isnull().sum()"
   ]
  },
  {
   "cell_type": "code",
   "execution_count": 9,
   "id": "a0796762",
   "metadata": {
    "ExecuteTime": {
     "end_time": "2022-06-07T12:49:46.267674Z",
     "start_time": "2022-06-07T12:49:46.258706Z"
    }
   },
   "outputs": [
    {
     "name": "stdout",
     "output_type": "stream",
     "text": [
      "9461\n"
     ]
    },
    {
     "data": {
      "text/html": [
       "<div>\n",
       "<style scoped>\n",
       "    .dataframe tbody tr th:only-of-type {\n",
       "        vertical-align: middle;\n",
       "    }\n",
       "\n",
       "    .dataframe tbody tr th {\n",
       "        vertical-align: top;\n",
       "    }\n",
       "\n",
       "    .dataframe thead th {\n",
       "        text-align: right;\n",
       "    }\n",
       "</style>\n",
       "<table border=\"1\" class=\"dataframe\">\n",
       "  <thead>\n",
       "    <tr style=\"text-align: right;\">\n",
       "      <th></th>\n",
       "      <th>Entreprise</th>\n",
       "      <th>Metier</th>\n",
       "      <th>Technologies</th>\n",
       "      <th>Diplome</th>\n",
       "      <th>Experience</th>\n",
       "      <th>Ville</th>\n",
       "    </tr>\n",
       "  </thead>\n",
       "  <tbody>\n",
       "    <tr>\n",
       "      <th>3463</th>\n",
       "      <td>Conagra Brands</td>\n",
       "      <td>Data architecte</td>\n",
       "      <td>Hadoop(HDFS)/Elasticsearch</td>\n",
       "      <td>Master</td>\n",
       "      <td>3.0</td>\n",
       "      <td>Rennes</td>\n",
       "    </tr>\n",
       "    <tr>\n",
       "      <th>7525</th>\n",
       "      <td>Cogo Labs</td>\n",
       "      <td>Data scientist</td>\n",
       "      <td>SQL/R/Python//Big data</td>\n",
       "      <td>Bachelor</td>\n",
       "      <td>0.0</td>\n",
       "      <td>Paris</td>\n",
       "    </tr>\n",
       "    <tr>\n",
       "      <th>4306</th>\n",
       "      <td>h2o.ai</td>\n",
       "      <td>Data scientist</td>\n",
       "      <td>VBA/Python/Excel/R</td>\n",
       "      <td>Master</td>\n",
       "      <td>2.0</td>\n",
       "      <td>Paris</td>\n",
       "    </tr>\n",
       "    <tr>\n",
       "      <th>8439</th>\n",
       "      <td>The Home Depot</td>\n",
       "      <td>Data engineer</td>\n",
       "      <td>Java/Hadoop/HDFS/Yarn</td>\n",
       "      <td>Master</td>\n",
       "      <td>NaN</td>\n",
       "      <td>Paris</td>\n",
       "    </tr>\n",
       "    <tr>\n",
       "      <th>6194</th>\n",
       "      <td>Wayfair</td>\n",
       "      <td>Data scientist</td>\n",
       "      <td>Matlab/Python/Pyspark/Scikit-learn/Tensorflow</td>\n",
       "      <td>Bachelor</td>\n",
       "      <td>3.5</td>\n",
       "      <td>Lille</td>\n",
       "    </tr>\n",
       "  </tbody>\n",
       "</table>\n",
       "</div>"
      ],
      "text/plain": [
       "          Entreprise           Metier  \\\n",
       "3463  Conagra Brands  Data architecte   \n",
       "7525       Cogo Labs   Data scientist   \n",
       "4306          h2o.ai   Data scientist   \n",
       "8439  The Home Depot    Data engineer   \n",
       "6194         Wayfair   Data scientist   \n",
       "\n",
       "                                       Technologies   Diplome  Experience  \\\n",
       "3463                     Hadoop(HDFS)/Elasticsearch    Master         3.0   \n",
       "7525                         SQL/R/Python//Big data  Bachelor         0.0   \n",
       "4306                             VBA/Python/Excel/R    Master         2.0   \n",
       "8439                          Java/Hadoop/HDFS/Yarn    Master         NaN   \n",
       "6194  Matlab/Python/Pyspark/Scikit-learn/Tensorflow  Bachelor         3.5   \n",
       "\n",
       "       Ville  \n",
       "3463  Rennes  \n",
       "7525   Paris  \n",
       "4306   Paris  \n",
       "8439   Paris  \n",
       "6194   Lille  "
      ]
     },
     "execution_count": 9,
     "metadata": {},
     "output_type": "execute_result"
    }
   ],
   "source": [
    "# Remove duplicates\n",
    "raw_no_duplicates = raw.drop_duplicates()\n",
    "print(len(raw_no_duplicates))\n",
    "raw_no_duplicates.sample(n=5)"
   ]
  },
  {
   "cell_type": "code",
   "execution_count": 10,
   "id": "7537bbbd",
   "metadata": {
    "ExecuteTime": {
     "end_time": "2022-06-07T12:49:46.275985Z",
     "start_time": "2022-06-07T12:49:46.269989Z"
    }
   },
   "outputs": [
    {
     "data": {
      "text/plain": [
       "array(['elasticsearch', 'vertica', 'deep learning', 'vba', 'mysql', 'sas',\n",
       "       'perl', 'postgresql', 'matplotlib', 'r', 'pycharm', 'linux',\n",
       "       'ruby', 'gnu', 'c', 'tensorflow', 'excel', 'sql', 'oracle',\n",
       "       'hadoop(hdfs)', 'tableau', 'spss', 'kafka', 'hadoop', 'teradata',\n",
       "       'nosq', 'yarn', 'c++', 'scikit-learn', 'numpy', 'docker', 'kibana',\n",
       "       'ai', 'python', 'hbase', 'scoring', 'pig', 'nosql',\n",
       "       'machine learning', 'windows', 'hive', 'mongodb', 'redshift',\n",
       "       'scala', 'aws', 'cassandra', 'map-reduce', 'microsoft azure',\n",
       "       'anglais', 'pyspark', 'matlab', 'hdfs', 'java', 'spark',\n",
       "       'big data', 'mariadb'], dtype='<U16')"
      ]
     },
     "execution_count": 10,
     "metadata": {},
     "output_type": "execute_result"
    }
   ],
   "source": [
    "# Individual technologies\n",
    "unique_technologies = np.array(list(set([\n",
    "    technology.lower()\n",
    "    for technologies in np.unique(raw_no_duplicates[['Technologies']].values)\n",
    "    for technology in technologies.strip().split('/')\n",
    "    if technology\n",
    "])))\n",
    "unique_technologies"
   ]
  },
  {
   "cell_type": "code",
   "execution_count": 11,
   "id": "35aca855",
   "metadata": {
    "ExecuteTime": {
     "end_time": "2022-06-07T12:49:46.570550Z",
     "start_time": "2022-06-07T12:49:46.276903Z"
    }
   },
   "outputs": [
    {
     "data": {
      "text/html": [
       "<div>\n",
       "<style scoped>\n",
       "    .dataframe tbody tr th:only-of-type {\n",
       "        vertical-align: middle;\n",
       "    }\n",
       "\n",
       "    .dataframe tbody tr th {\n",
       "        vertical-align: top;\n",
       "    }\n",
       "\n",
       "    .dataframe thead th {\n",
       "        text-align: right;\n",
       "    }\n",
       "</style>\n",
       "<table border=\"1\" class=\"dataframe\">\n",
       "  <thead>\n",
       "    <tr style=\"text-align: right;\">\n",
       "      <th></th>\n",
       "      <th>Entreprise</th>\n",
       "      <th>Metier</th>\n",
       "      <th>Diplome</th>\n",
       "      <th>Experience</th>\n",
       "      <th>Ville</th>\n",
       "      <th>elasticsearch</th>\n",
       "      <th>vertica</th>\n",
       "      <th>deep learning</th>\n",
       "      <th>vba</th>\n",
       "      <th>mysql</th>\n",
       "      <th>sas</th>\n",
       "      <th>perl</th>\n",
       "      <th>postgresql</th>\n",
       "      <th>matplotlib</th>\n",
       "      <th>r</th>\n",
       "      <th>pycharm</th>\n",
       "      <th>linux</th>\n",
       "      <th>ruby</th>\n",
       "      <th>gnu</th>\n",
       "      <th>c</th>\n",
       "      <th>tensorflow</th>\n",
       "      <th>excel</th>\n",
       "      <th>sql</th>\n",
       "      <th>oracle</th>\n",
       "      <th>hadoop(hdfs)</th>\n",
       "      <th>tableau</th>\n",
       "      <th>spss</th>\n",
       "      <th>kafka</th>\n",
       "      <th>hadoop</th>\n",
       "      <th>teradata</th>\n",
       "      <th>nosq</th>\n",
       "      <th>yarn</th>\n",
       "      <th>c++</th>\n",
       "      <th>scikit-learn</th>\n",
       "      <th>numpy</th>\n",
       "      <th>docker</th>\n",
       "      <th>kibana</th>\n",
       "      <th>ai</th>\n",
       "      <th>python</th>\n",
       "      <th>hbase</th>\n",
       "      <th>scoring</th>\n",
       "      <th>pig</th>\n",
       "      <th>nosql</th>\n",
       "      <th>machine learning</th>\n",
       "      <th>windows</th>\n",
       "      <th>hive</th>\n",
       "      <th>mongodb</th>\n",
       "      <th>redshift</th>\n",
       "      <th>scala</th>\n",
       "      <th>aws</th>\n",
       "      <th>cassandra</th>\n",
       "      <th>map-reduce</th>\n",
       "      <th>microsoft azure</th>\n",
       "      <th>anglais</th>\n",
       "      <th>pyspark</th>\n",
       "      <th>matlab</th>\n",
       "      <th>hdfs</th>\n",
       "      <th>java</th>\n",
       "      <th>spark</th>\n",
       "      <th>big data</th>\n",
       "      <th>mariadb</th>\n",
       "    </tr>\n",
       "  </thead>\n",
       "  <tbody>\n",
       "    <tr>\n",
       "      <th>3583</th>\n",
       "      <td>NaN</td>\n",
       "      <td>Data scientist</td>\n",
       "      <td>Master</td>\n",
       "      <td>2.0</td>\n",
       "      <td>Paris</td>\n",
       "      <td>0</td>\n",
       "      <td>0</td>\n",
       "      <td>0</td>\n",
       "      <td>1</td>\n",
       "      <td>0</td>\n",
       "      <td>0</td>\n",
       "      <td>0</td>\n",
       "      <td>0</td>\n",
       "      <td>0</td>\n",
       "      <td>1</td>\n",
       "      <td>0</td>\n",
       "      <td>0</td>\n",
       "      <td>0</td>\n",
       "      <td>0</td>\n",
       "      <td>0</td>\n",
       "      <td>0</td>\n",
       "      <td>1</td>\n",
       "      <td>0</td>\n",
       "      <td>0</td>\n",
       "      <td>0</td>\n",
       "      <td>0</td>\n",
       "      <td>0</td>\n",
       "      <td>0</td>\n",
       "      <td>0</td>\n",
       "      <td>0</td>\n",
       "      <td>0</td>\n",
       "      <td>0</td>\n",
       "      <td>0</td>\n",
       "      <td>0</td>\n",
       "      <td>0</td>\n",
       "      <td>0</td>\n",
       "      <td>0</td>\n",
       "      <td>0</td>\n",
       "      <td>1</td>\n",
       "      <td>0</td>\n",
       "      <td>0</td>\n",
       "      <td>0</td>\n",
       "      <td>0</td>\n",
       "      <td>0</td>\n",
       "      <td>0</td>\n",
       "      <td>0</td>\n",
       "      <td>0</td>\n",
       "      <td>0</td>\n",
       "      <td>0</td>\n",
       "      <td>0</td>\n",
       "      <td>0</td>\n",
       "      <td>0</td>\n",
       "      <td>0</td>\n",
       "      <td>0</td>\n",
       "      <td>0</td>\n",
       "      <td>0</td>\n",
       "      <td>0</td>\n",
       "      <td>0</td>\n",
       "      <td>0</td>\n",
       "      <td>0</td>\n",
       "      <td>0</td>\n",
       "    </tr>\n",
       "    <tr>\n",
       "      <th>2296</th>\n",
       "      <td>NaN</td>\n",
       "      <td>Data scientist</td>\n",
       "      <td>Phd</td>\n",
       "      <td>2.5</td>\n",
       "      <td>Marseille</td>\n",
       "      <td>0</td>\n",
       "      <td>0</td>\n",
       "      <td>0</td>\n",
       "      <td>1</td>\n",
       "      <td>0</td>\n",
       "      <td>0</td>\n",
       "      <td>0</td>\n",
       "      <td>0</td>\n",
       "      <td>0</td>\n",
       "      <td>1</td>\n",
       "      <td>0</td>\n",
       "      <td>0</td>\n",
       "      <td>0</td>\n",
       "      <td>0</td>\n",
       "      <td>0</td>\n",
       "      <td>0</td>\n",
       "      <td>1</td>\n",
       "      <td>0</td>\n",
       "      <td>0</td>\n",
       "      <td>0</td>\n",
       "      <td>0</td>\n",
       "      <td>0</td>\n",
       "      <td>0</td>\n",
       "      <td>0</td>\n",
       "      <td>0</td>\n",
       "      <td>0</td>\n",
       "      <td>0</td>\n",
       "      <td>0</td>\n",
       "      <td>0</td>\n",
       "      <td>0</td>\n",
       "      <td>0</td>\n",
       "      <td>0</td>\n",
       "      <td>0</td>\n",
       "      <td>0</td>\n",
       "      <td>0</td>\n",
       "      <td>0</td>\n",
       "      <td>0</td>\n",
       "      <td>0</td>\n",
       "      <td>0</td>\n",
       "      <td>0</td>\n",
       "      <td>0</td>\n",
       "      <td>0</td>\n",
       "      <td>0</td>\n",
       "      <td>0</td>\n",
       "      <td>0</td>\n",
       "      <td>0</td>\n",
       "      <td>0</td>\n",
       "      <td>0</td>\n",
       "      <td>0</td>\n",
       "      <td>0</td>\n",
       "      <td>0</td>\n",
       "      <td>0</td>\n",
       "      <td>0</td>\n",
       "      <td>0</td>\n",
       "      <td>0</td>\n",
       "      <td>0</td>\n",
       "    </tr>\n",
       "    <tr>\n",
       "      <th>6761</th>\n",
       "      <td>Pharmerit International</td>\n",
       "      <td>Data architecte</td>\n",
       "      <td>MSc</td>\n",
       "      <td>2.0</td>\n",
       "      <td>Paris</td>\n",
       "      <td>0</td>\n",
       "      <td>0</td>\n",
       "      <td>0</td>\n",
       "      <td>0</td>\n",
       "      <td>0</td>\n",
       "      <td>0</td>\n",
       "      <td>0</td>\n",
       "      <td>0</td>\n",
       "      <td>0</td>\n",
       "      <td>0</td>\n",
       "      <td>0</td>\n",
       "      <td>0</td>\n",
       "      <td>0</td>\n",
       "      <td>0</td>\n",
       "      <td>0</td>\n",
       "      <td>0</td>\n",
       "      <td>0</td>\n",
       "      <td>0</td>\n",
       "      <td>0</td>\n",
       "      <td>0</td>\n",
       "      <td>0</td>\n",
       "      <td>0</td>\n",
       "      <td>0</td>\n",
       "      <td>1</td>\n",
       "      <td>0</td>\n",
       "      <td>0</td>\n",
       "      <td>0</td>\n",
       "      <td>0</td>\n",
       "      <td>0</td>\n",
       "      <td>0</td>\n",
       "      <td>0</td>\n",
       "      <td>0</td>\n",
       "      <td>0</td>\n",
       "      <td>1</td>\n",
       "      <td>0</td>\n",
       "      <td>0</td>\n",
       "      <td>0</td>\n",
       "      <td>0</td>\n",
       "      <td>0</td>\n",
       "      <td>0</td>\n",
       "      <td>1</td>\n",
       "      <td>0</td>\n",
       "      <td>0</td>\n",
       "      <td>0</td>\n",
       "      <td>0</td>\n",
       "      <td>0</td>\n",
       "      <td>0</td>\n",
       "      <td>0</td>\n",
       "      <td>0</td>\n",
       "      <td>0</td>\n",
       "      <td>0</td>\n",
       "      <td>0</td>\n",
       "      <td>0</td>\n",
       "      <td>1</td>\n",
       "      <td>0</td>\n",
       "      <td>0</td>\n",
       "    </tr>\n",
       "    <tr>\n",
       "      <th>2626</th>\n",
       "      <td>Ball Aerospace</td>\n",
       "      <td>Data scientist</td>\n",
       "      <td>PhD</td>\n",
       "      <td>0.0</td>\n",
       "      <td>Marseille</td>\n",
       "      <td>0</td>\n",
       "      <td>0</td>\n",
       "      <td>0</td>\n",
       "      <td>0</td>\n",
       "      <td>0</td>\n",
       "      <td>1</td>\n",
       "      <td>0</td>\n",
       "      <td>0</td>\n",
       "      <td>0</td>\n",
       "      <td>1</td>\n",
       "      <td>0</td>\n",
       "      <td>0</td>\n",
       "      <td>0</td>\n",
       "      <td>0</td>\n",
       "      <td>0</td>\n",
       "      <td>0</td>\n",
       "      <td>0</td>\n",
       "      <td>1</td>\n",
       "      <td>0</td>\n",
       "      <td>0</td>\n",
       "      <td>0</td>\n",
       "      <td>0</td>\n",
       "      <td>0</td>\n",
       "      <td>0</td>\n",
       "      <td>1</td>\n",
       "      <td>0</td>\n",
       "      <td>0</td>\n",
       "      <td>0</td>\n",
       "      <td>0</td>\n",
       "      <td>0</td>\n",
       "      <td>0</td>\n",
       "      <td>0</td>\n",
       "      <td>0</td>\n",
       "      <td>1</td>\n",
       "      <td>0</td>\n",
       "      <td>0</td>\n",
       "      <td>0</td>\n",
       "      <td>0</td>\n",
       "      <td>1</td>\n",
       "      <td>0</td>\n",
       "      <td>0</td>\n",
       "      <td>0</td>\n",
       "      <td>0</td>\n",
       "      <td>0</td>\n",
       "      <td>0</td>\n",
       "      <td>0</td>\n",
       "      <td>0</td>\n",
       "      <td>0</td>\n",
       "      <td>1</td>\n",
       "      <td>0</td>\n",
       "      <td>0</td>\n",
       "      <td>0</td>\n",
       "      <td>0</td>\n",
       "      <td>0</td>\n",
       "      <td>0</td>\n",
       "      <td>0</td>\n",
       "    </tr>\n",
       "    <tr>\n",
       "      <th>7732</th>\n",
       "      <td>AirSage</td>\n",
       "      <td>Data engineer</td>\n",
       "      <td>MSc</td>\n",
       "      <td>1.5</td>\n",
       "      <td>Paris</td>\n",
       "      <td>1</td>\n",
       "      <td>0</td>\n",
       "      <td>0</td>\n",
       "      <td>0</td>\n",
       "      <td>0</td>\n",
       "      <td>0</td>\n",
       "      <td>0</td>\n",
       "      <td>1</td>\n",
       "      <td>0</td>\n",
       "      <td>0</td>\n",
       "      <td>0</td>\n",
       "      <td>0</td>\n",
       "      <td>0</td>\n",
       "      <td>0</td>\n",
       "      <td>0</td>\n",
       "      <td>0</td>\n",
       "      <td>0</td>\n",
       "      <td>0</td>\n",
       "      <td>0</td>\n",
       "      <td>0</td>\n",
       "      <td>0</td>\n",
       "      <td>0</td>\n",
       "      <td>0</td>\n",
       "      <td>0</td>\n",
       "      <td>0</td>\n",
       "      <td>0</td>\n",
       "      <td>0</td>\n",
       "      <td>0</td>\n",
       "      <td>0</td>\n",
       "      <td>0</td>\n",
       "      <td>1</td>\n",
       "      <td>1</td>\n",
       "      <td>0</td>\n",
       "      <td>0</td>\n",
       "      <td>0</td>\n",
       "      <td>0</td>\n",
       "      <td>0</td>\n",
       "      <td>0</td>\n",
       "      <td>0</td>\n",
       "      <td>0</td>\n",
       "      <td>0</td>\n",
       "      <td>1</td>\n",
       "      <td>0</td>\n",
       "      <td>0</td>\n",
       "      <td>0</td>\n",
       "      <td>0</td>\n",
       "      <td>0</td>\n",
       "      <td>0</td>\n",
       "      <td>0</td>\n",
       "      <td>0</td>\n",
       "      <td>0</td>\n",
       "      <td>0</td>\n",
       "      <td>0</td>\n",
       "      <td>0</td>\n",
       "      <td>0</td>\n",
       "      <td>0</td>\n",
       "    </tr>\n",
       "  </tbody>\n",
       "</table>\n",
       "</div>"
      ],
      "text/plain": [
       "                   Entreprise           Metier Diplome  Experience      Ville  \\\n",
       "3583                      NaN   Data scientist  Master         2.0      Paris   \n",
       "2296                      NaN   Data scientist     Phd         2.5  Marseille   \n",
       "6761  Pharmerit International  Data architecte     MSc         2.0      Paris   \n",
       "2626           Ball Aerospace   Data scientist     PhD         0.0  Marseille   \n",
       "7732                  AirSage    Data engineer     MSc         1.5      Paris   \n",
       "\n",
       "      elasticsearch  vertica  deep learning  vba  mysql  sas  perl  \\\n",
       "3583              0        0              0    1      0    0     0   \n",
       "2296              0        0              0    1      0    0     0   \n",
       "6761              0        0              0    0      0    0     0   \n",
       "2626              0        0              0    0      0    1     0   \n",
       "7732              1        0              0    0      0    0     0   \n",
       "\n",
       "      postgresql  matplotlib  r  pycharm  linux  ruby  gnu  c  tensorflow  \\\n",
       "3583           0           0  1        0      0     0    0  0           0   \n",
       "2296           0           0  1        0      0     0    0  0           0   \n",
       "6761           0           0  0        0      0     0    0  0           0   \n",
       "2626           0           0  1        0      0     0    0  0           0   \n",
       "7732           1           0  0        0      0     0    0  0           0   \n",
       "\n",
       "      excel  sql  oracle  hadoop(hdfs)  tableau  spss  kafka  hadoop  \\\n",
       "3583      1    0       0             0        0     0      0       0   \n",
       "2296      1    0       0             0        0     0      0       0   \n",
       "6761      0    0       0             0        0     0      0       1   \n",
       "2626      0    1       0             0        0     0      0       0   \n",
       "7732      0    0       0             0        0     0      0       0   \n",
       "\n",
       "      teradata  nosq  yarn  c++  scikit-learn  numpy  docker  kibana  ai  \\\n",
       "3583         0     0     0    0             0      0       0       0   0   \n",
       "2296         0     0     0    0             0      0       0       0   0   \n",
       "6761         0     0     0    0             0      0       0       0   0   \n",
       "2626         1     0     0    0             0      0       0       0   0   \n",
       "7732         0     0     0    0             0      0       1       1   0   \n",
       "\n",
       "      python  hbase  scoring  pig  nosql  machine learning  windows  hive  \\\n",
       "3583       1      0        0    0      0                 0        0     0   \n",
       "2296       0      0        0    0      0                 0        0     0   \n",
       "6761       1      0        0    0      0                 0        0     1   \n",
       "2626       1      0        0    0      0                 1        0     0   \n",
       "7732       0      0        0    0      0                 0        0     0   \n",
       "\n",
       "      mongodb  redshift  scala  aws  cassandra  map-reduce  microsoft azure  \\\n",
       "3583        0         0      0    0          0           0                0   \n",
       "2296        0         0      0    0          0           0                0   \n",
       "6761        0         0      0    0          0           0                0   \n",
       "2626        0         0      0    0          0           0                0   \n",
       "7732        1         0      0    0          0           0                0   \n",
       "\n",
       "      anglais  pyspark  matlab  hdfs  java  spark  big data  mariadb  \n",
       "3583        0        0       0     0     0      0         0        0  \n",
       "2296        0        0       0     0     0      0         0        0  \n",
       "6761        0        0       0     0     0      1         0        0  \n",
       "2626        1        0       0     0     0      0         0        0  \n",
       "7732        0        0       0     0     0      0         0        0  "
      ]
     },
     "execution_count": 11,
     "metadata": {},
     "output_type": "execute_result"
    }
   ],
   "source": [
    "# Create separate columns for each technologies known\n",
    "def set_individual_technology(row, unique_technologies):\n",
    "    row_technologies = np.array(list(filter(None, row['Technologies'].lower().strip().split('/'))))\n",
    "    individual_technology = np.isin(unique_technologies, row_technologies).astype(int)\n",
    "    return np.concatenate((row, individual_technology))\n",
    "\n",
    "raw_with_individual_technologies = raw_no_duplicates.apply(\n",
    "    lambda row: set_individual_technology(row, unique_technologies),\n",
    "    axis=1,\n",
    "    result_type='expand'\n",
    ")\n",
    "raw_with_individual_technologies.columns = [*raw_no_duplicates.columns, *unique_technologies.tolist()]\n",
    "raw_with_individual_technologies.drop('Technologies', axis=1, inplace=True)\n",
    "raw_with_individual_technologies.sample(n=5)"
   ]
  },
  {
   "cell_type": "code",
   "execution_count": 12,
   "id": "e02cfc11",
   "metadata": {
    "ExecuteTime": {
     "end_time": "2022-06-07T12:49:46.582321Z",
     "start_time": "2022-06-07T12:49:46.571524Z"
    }
   },
   "outputs": [
    {
     "data": {
      "text/html": [
       "<div>\n",
       "<style scoped>\n",
       "    .dataframe tbody tr th:only-of-type {\n",
       "        vertical-align: middle;\n",
       "    }\n",
       "\n",
       "    .dataframe tbody tr th {\n",
       "        vertical-align: top;\n",
       "    }\n",
       "\n",
       "    .dataframe thead th {\n",
       "        text-align: right;\n",
       "    }\n",
       "</style>\n",
       "<table border=\"1\" class=\"dataframe\">\n",
       "  <thead>\n",
       "    <tr style=\"text-align: right;\">\n",
       "      <th></th>\n",
       "      <th>Metier</th>\n",
       "      <th>Diplome</th>\n",
       "      <th>Experience</th>\n",
       "      <th>elasticsearch</th>\n",
       "      <th>vertica</th>\n",
       "      <th>deep learning</th>\n",
       "      <th>vba</th>\n",
       "      <th>mysql</th>\n",
       "      <th>sas</th>\n",
       "      <th>perl</th>\n",
       "      <th>postgresql</th>\n",
       "      <th>matplotlib</th>\n",
       "      <th>r</th>\n",
       "      <th>pycharm</th>\n",
       "      <th>linux</th>\n",
       "      <th>ruby</th>\n",
       "      <th>gnu</th>\n",
       "      <th>c</th>\n",
       "      <th>tensorflow</th>\n",
       "      <th>excel</th>\n",
       "      <th>sql</th>\n",
       "      <th>oracle</th>\n",
       "      <th>hadoop(hdfs)</th>\n",
       "      <th>tableau</th>\n",
       "      <th>spss</th>\n",
       "      <th>kafka</th>\n",
       "      <th>hadoop</th>\n",
       "      <th>teradata</th>\n",
       "      <th>nosq</th>\n",
       "      <th>yarn</th>\n",
       "      <th>c++</th>\n",
       "      <th>scikit-learn</th>\n",
       "      <th>numpy</th>\n",
       "      <th>docker</th>\n",
       "      <th>kibana</th>\n",
       "      <th>ai</th>\n",
       "      <th>python</th>\n",
       "      <th>hbase</th>\n",
       "      <th>scoring</th>\n",
       "      <th>pig</th>\n",
       "      <th>nosql</th>\n",
       "      <th>machine learning</th>\n",
       "      <th>windows</th>\n",
       "      <th>hive</th>\n",
       "      <th>mongodb</th>\n",
       "      <th>redshift</th>\n",
       "      <th>scala</th>\n",
       "      <th>aws</th>\n",
       "      <th>cassandra</th>\n",
       "      <th>map-reduce</th>\n",
       "      <th>microsoft azure</th>\n",
       "      <th>anglais</th>\n",
       "      <th>pyspark</th>\n",
       "      <th>matlab</th>\n",
       "      <th>hdfs</th>\n",
       "      <th>java</th>\n",
       "      <th>spark</th>\n",
       "      <th>big data</th>\n",
       "      <th>mariadb</th>\n",
       "    </tr>\n",
       "  </thead>\n",
       "  <tbody>\n",
       "    <tr>\n",
       "      <th>3093</th>\n",
       "      <td>Data scientist</td>\n",
       "      <td>Phd</td>\n",
       "      <td>3.0</td>\n",
       "      <td>0</td>\n",
       "      <td>0</td>\n",
       "      <td>0</td>\n",
       "      <td>0</td>\n",
       "      <td>0</td>\n",
       "      <td>0</td>\n",
       "      <td>0</td>\n",
       "      <td>0</td>\n",
       "      <td>0</td>\n",
       "      <td>1</td>\n",
       "      <td>0</td>\n",
       "      <td>0</td>\n",
       "      <td>0</td>\n",
       "      <td>0</td>\n",
       "      <td>0</td>\n",
       "      <td>0</td>\n",
       "      <td>0</td>\n",
       "      <td>1</td>\n",
       "      <td>0</td>\n",
       "      <td>0</td>\n",
       "      <td>0</td>\n",
       "      <td>0</td>\n",
       "      <td>0</td>\n",
       "      <td>0</td>\n",
       "      <td>0</td>\n",
       "      <td>0</td>\n",
       "      <td>0</td>\n",
       "      <td>0</td>\n",
       "      <td>0</td>\n",
       "      <td>0</td>\n",
       "      <td>0</td>\n",
       "      <td>0</td>\n",
       "      <td>0</td>\n",
       "      <td>1</td>\n",
       "      <td>0</td>\n",
       "      <td>0</td>\n",
       "      <td>0</td>\n",
       "      <td>1</td>\n",
       "      <td>0</td>\n",
       "      <td>0</td>\n",
       "      <td>0</td>\n",
       "      <td>1</td>\n",
       "      <td>0</td>\n",
       "      <td>0</td>\n",
       "      <td>0</td>\n",
       "      <td>0</td>\n",
       "      <td>0</td>\n",
       "      <td>0</td>\n",
       "      <td>0</td>\n",
       "      <td>0</td>\n",
       "      <td>0</td>\n",
       "      <td>0</td>\n",
       "      <td>0</td>\n",
       "      <td>0</td>\n",
       "      <td>0</td>\n",
       "      <td>0</td>\n",
       "    </tr>\n",
       "    <tr>\n",
       "      <th>9422</th>\n",
       "      <td>Data scientist</td>\n",
       "      <td>No diploma</td>\n",
       "      <td>0.5</td>\n",
       "      <td>0</td>\n",
       "      <td>0</td>\n",
       "      <td>0</td>\n",
       "      <td>0</td>\n",
       "      <td>0</td>\n",
       "      <td>0</td>\n",
       "      <td>0</td>\n",
       "      <td>0</td>\n",
       "      <td>0</td>\n",
       "      <td>1</td>\n",
       "      <td>0</td>\n",
       "      <td>0</td>\n",
       "      <td>0</td>\n",
       "      <td>0</td>\n",
       "      <td>0</td>\n",
       "      <td>0</td>\n",
       "      <td>0</td>\n",
       "      <td>1</td>\n",
       "      <td>0</td>\n",
       "      <td>0</td>\n",
       "      <td>0</td>\n",
       "      <td>0</td>\n",
       "      <td>0</td>\n",
       "      <td>1</td>\n",
       "      <td>0</td>\n",
       "      <td>0</td>\n",
       "      <td>0</td>\n",
       "      <td>0</td>\n",
       "      <td>0</td>\n",
       "      <td>0</td>\n",
       "      <td>0</td>\n",
       "      <td>0</td>\n",
       "      <td>0</td>\n",
       "      <td>1</td>\n",
       "      <td>0</td>\n",
       "      <td>0</td>\n",
       "      <td>0</td>\n",
       "      <td>0</td>\n",
       "      <td>0</td>\n",
       "      <td>0</td>\n",
       "      <td>1</td>\n",
       "      <td>0</td>\n",
       "      <td>0</td>\n",
       "      <td>0</td>\n",
       "      <td>0</td>\n",
       "      <td>0</td>\n",
       "      <td>0</td>\n",
       "      <td>0</td>\n",
       "      <td>0</td>\n",
       "      <td>0</td>\n",
       "      <td>0</td>\n",
       "      <td>0</td>\n",
       "      <td>0</td>\n",
       "      <td>0</td>\n",
       "      <td>0</td>\n",
       "      <td>0</td>\n",
       "    </tr>\n",
       "    <tr>\n",
       "      <th>1986</th>\n",
       "      <td>Data engineer</td>\n",
       "      <td>MSc</td>\n",
       "      <td>2.5</td>\n",
       "      <td>0</td>\n",
       "      <td>0</td>\n",
       "      <td>0</td>\n",
       "      <td>0</td>\n",
       "      <td>0</td>\n",
       "      <td>0</td>\n",
       "      <td>0</td>\n",
       "      <td>0</td>\n",
       "      <td>0</td>\n",
       "      <td>0</td>\n",
       "      <td>0</td>\n",
       "      <td>0</td>\n",
       "      <td>0</td>\n",
       "      <td>0</td>\n",
       "      <td>0</td>\n",
       "      <td>0</td>\n",
       "      <td>0</td>\n",
       "      <td>1</td>\n",
       "      <td>0</td>\n",
       "      <td>0</td>\n",
       "      <td>0</td>\n",
       "      <td>0</td>\n",
       "      <td>0</td>\n",
       "      <td>1</td>\n",
       "      <td>0</td>\n",
       "      <td>0</td>\n",
       "      <td>0</td>\n",
       "      <td>0</td>\n",
       "      <td>0</td>\n",
       "      <td>0</td>\n",
       "      <td>0</td>\n",
       "      <td>0</td>\n",
       "      <td>0</td>\n",
       "      <td>0</td>\n",
       "      <td>0</td>\n",
       "      <td>0</td>\n",
       "      <td>0</td>\n",
       "      <td>0</td>\n",
       "      <td>0</td>\n",
       "      <td>0</td>\n",
       "      <td>1</td>\n",
       "      <td>0</td>\n",
       "      <td>0</td>\n",
       "      <td>0</td>\n",
       "      <td>0</td>\n",
       "      <td>0</td>\n",
       "      <td>0</td>\n",
       "      <td>0</td>\n",
       "      <td>0</td>\n",
       "      <td>0</td>\n",
       "      <td>0</td>\n",
       "      <td>0</td>\n",
       "      <td>0</td>\n",
       "      <td>0</td>\n",
       "      <td>0</td>\n",
       "      <td>1</td>\n",
       "    </tr>\n",
       "    <tr>\n",
       "      <th>3916</th>\n",
       "      <td>Data architecte</td>\n",
       "      <td>MSc</td>\n",
       "      <td>5.0</td>\n",
       "      <td>0</td>\n",
       "      <td>0</td>\n",
       "      <td>0</td>\n",
       "      <td>0</td>\n",
       "      <td>0</td>\n",
       "      <td>0</td>\n",
       "      <td>0</td>\n",
       "      <td>0</td>\n",
       "      <td>0</td>\n",
       "      <td>0</td>\n",
       "      <td>0</td>\n",
       "      <td>0</td>\n",
       "      <td>0</td>\n",
       "      <td>0</td>\n",
       "      <td>1</td>\n",
       "      <td>0</td>\n",
       "      <td>0</td>\n",
       "      <td>0</td>\n",
       "      <td>0</td>\n",
       "      <td>0</td>\n",
       "      <td>0</td>\n",
       "      <td>0</td>\n",
       "      <td>0</td>\n",
       "      <td>0</td>\n",
       "      <td>0</td>\n",
       "      <td>0</td>\n",
       "      <td>0</td>\n",
       "      <td>1</td>\n",
       "      <td>0</td>\n",
       "      <td>0</td>\n",
       "      <td>0</td>\n",
       "      <td>0</td>\n",
       "      <td>0</td>\n",
       "      <td>1</td>\n",
       "      <td>0</td>\n",
       "      <td>0</td>\n",
       "      <td>0</td>\n",
       "      <td>0</td>\n",
       "      <td>0</td>\n",
       "      <td>0</td>\n",
       "      <td>0</td>\n",
       "      <td>0</td>\n",
       "      <td>0</td>\n",
       "      <td>0</td>\n",
       "      <td>0</td>\n",
       "      <td>0</td>\n",
       "      <td>0</td>\n",
       "      <td>0</td>\n",
       "      <td>0</td>\n",
       "      <td>0</td>\n",
       "      <td>0</td>\n",
       "      <td>0</td>\n",
       "      <td>1</td>\n",
       "      <td>0</td>\n",
       "      <td>0</td>\n",
       "      <td>0</td>\n",
       "    </tr>\n",
       "    <tr>\n",
       "      <th>1224</th>\n",
       "      <td>Data architecte</td>\n",
       "      <td>Master</td>\n",
       "      <td>1.0</td>\n",
       "      <td>0</td>\n",
       "      <td>0</td>\n",
       "      <td>0</td>\n",
       "      <td>0</td>\n",
       "      <td>0</td>\n",
       "      <td>0</td>\n",
       "      <td>0</td>\n",
       "      <td>0</td>\n",
       "      <td>0</td>\n",
       "      <td>0</td>\n",
       "      <td>0</td>\n",
       "      <td>1</td>\n",
       "      <td>0</td>\n",
       "      <td>0</td>\n",
       "      <td>0</td>\n",
       "      <td>0</td>\n",
       "      <td>0</td>\n",
       "      <td>0</td>\n",
       "      <td>0</td>\n",
       "      <td>0</td>\n",
       "      <td>0</td>\n",
       "      <td>0</td>\n",
       "      <td>0</td>\n",
       "      <td>0</td>\n",
       "      <td>0</td>\n",
       "      <td>0</td>\n",
       "      <td>0</td>\n",
       "      <td>0</td>\n",
       "      <td>0</td>\n",
       "      <td>0</td>\n",
       "      <td>1</td>\n",
       "      <td>0</td>\n",
       "      <td>0</td>\n",
       "      <td>0</td>\n",
       "      <td>0</td>\n",
       "      <td>0</td>\n",
       "      <td>0</td>\n",
       "      <td>0</td>\n",
       "      <td>0</td>\n",
       "      <td>0</td>\n",
       "      <td>0</td>\n",
       "      <td>0</td>\n",
       "      <td>0</td>\n",
       "      <td>0</td>\n",
       "      <td>0</td>\n",
       "      <td>0</td>\n",
       "      <td>0</td>\n",
       "      <td>0</td>\n",
       "      <td>0</td>\n",
       "      <td>0</td>\n",
       "      <td>0</td>\n",
       "      <td>0</td>\n",
       "      <td>1</td>\n",
       "      <td>0</td>\n",
       "      <td>0</td>\n",
       "      <td>0</td>\n",
       "    </tr>\n",
       "  </tbody>\n",
       "</table>\n",
       "</div>"
      ],
      "text/plain": [
       "               Metier     Diplome  Experience  elasticsearch  vertica  \\\n",
       "3093   Data scientist         Phd         3.0              0        0   \n",
       "9422   Data scientist  No diploma         0.5              0        0   \n",
       "1986    Data engineer         MSc         2.5              0        0   \n",
       "3916  Data architecte         MSc         5.0              0        0   \n",
       "1224  Data architecte      Master         1.0              0        0   \n",
       "\n",
       "      deep learning  vba  mysql  sas  perl  postgresql  matplotlib  r  \\\n",
       "3093              0    0      0    0     0           0           0  1   \n",
       "9422              0    0      0    0     0           0           0  1   \n",
       "1986              0    0      0    0     0           0           0  0   \n",
       "3916              0    0      0    0     0           0           0  0   \n",
       "1224              0    0      0    0     0           0           0  0   \n",
       "\n",
       "      pycharm  linux  ruby  gnu  c  tensorflow  excel  sql  oracle  \\\n",
       "3093        0      0     0    0  0           0      0    1       0   \n",
       "9422        0      0     0    0  0           0      0    1       0   \n",
       "1986        0      0     0    0  0           0      0    1       0   \n",
       "3916        0      0     0    0  1           0      0    0       0   \n",
       "1224        0      1     0    0  0           0      0    0       0   \n",
       "\n",
       "      hadoop(hdfs)  tableau  spss  kafka  hadoop  teradata  nosq  yarn  c++  \\\n",
       "3093             0        0     0      0       0         0     0     0    0   \n",
       "9422             0        0     0      0       1         0     0     0    0   \n",
       "1986             0        0     0      0       1         0     0     0    0   \n",
       "3916             0        0     0      0       0         0     0     0    1   \n",
       "1224             0        0     0      0       0         0     0     0    0   \n",
       "\n",
       "      scikit-learn  numpy  docker  kibana  ai  python  hbase  scoring  pig  \\\n",
       "3093             0      0       0       0   0       1      0        0    0   \n",
       "9422             0      0       0       0   0       1      0        0    0   \n",
       "1986             0      0       0       0   0       0      0        0    0   \n",
       "3916             0      0       0       0   0       1      0        0    0   \n",
       "1224             0      0       1       0   0       0      0        0    0   \n",
       "\n",
       "      nosql  machine learning  windows  hive  mongodb  redshift  scala  aws  \\\n",
       "3093      1                 0        0     0        1         0      0    0   \n",
       "9422      0                 0        0     1        0         0      0    0   \n",
       "1986      0                 0        0     1        0         0      0    0   \n",
       "3916      0                 0        0     0        0         0      0    0   \n",
       "1224      0                 0        0     0        0         0      0    0   \n",
       "\n",
       "      cassandra  map-reduce  microsoft azure  anglais  pyspark  matlab  hdfs  \\\n",
       "3093          0           0                0        0        0       0     0   \n",
       "9422          0           0                0        0        0       0     0   \n",
       "1986          0           0                0        0        0       0     0   \n",
       "3916          0           0                0        0        0       0     0   \n",
       "1224          0           0                0        0        0       0     0   \n",
       "\n",
       "      java  spark  big data  mariadb  \n",
       "3093     0      0         0        0  \n",
       "9422     0      0         0        0  \n",
       "1986     0      0         0        1  \n",
       "3916     1      0         0        0  \n",
       "1224     1      0         0        0  "
      ]
     },
     "execution_count": 12,
     "metadata": {},
     "output_type": "execute_result"
    }
   ],
   "source": [
    "# Drop Ville and Entreprise \n",
    "# Entreprise is irrelevant filtering candidate for a job offer\n",
    "# Ville is also irrelevant since candidates can apply from anywhere\n",
    "raw_filtered = raw_with_individual_technologies.drop(['Entreprise', 'Ville'], axis=1)\n",
    "raw_filtered.sample(n=5)"
   ]
  },
  {
   "cell_type": "code",
   "execution_count": 13,
   "id": "00dd3126",
   "metadata": {
    "ExecuteTime": {
     "end_time": "2022-06-07T12:49:46.733409Z",
     "start_time": "2022-06-07T12:49:46.583382Z"
    }
   },
   "outputs": [
    {
     "data": {
      "image/png": "[encoded data removed]",
      "text/plain": [
       "<Figure size 1152x576 with 1 Axes>"
      ]
     },
     "metadata": {
      "needs_background": "light"
     },
     "output_type": "display_data"
    }
   ],
   "source": [
    "fig = plt.figure(figsize=(16, 8))\n",
    "sns.countplot(data=raw_filtered, x='Metier')\n",
    "plt.show()"
   ]
  },
  {
   "cell_type": "markdown",
   "id": "f2b08161",
   "metadata": {},
   "source": [
    "The dataset is imbalanced with a majority of Data Scientist."
   ]
  },
  {
   "cell_type": "code",
   "execution_count": 14,
   "id": "88e8e04e",
   "metadata": {
    "ExecuteTime": {
     "end_time": "2022-06-07T12:49:46.961588Z",
     "start_time": "2022-06-07T12:49:46.734975Z"
    }
   },
   "outputs": [
    {
     "data": {
      "image/png": "[encoded data removed]",
      "text/plain": [
       "<Figure size 1296x576 with 1 Axes>"
      ]
     },
     "metadata": {
      "needs_background": "light"
     },
     "output_type": "display_data"
    }
   ],
   "source": [
    "# Analyze the skills\n",
    "fig = plt.figure(figsize=(18, 8))\n",
    "raw_filtered[unique_technologies].sum().sort_values(ascending=False).plot(kind='bar')\n",
    "plt.title('Technology Count')\n",
    "plt.show()"
   ]
  },
  {
   "cell_type": "markdown",
   "id": "f705acc1",
   "metadata": {},
   "source": [
    "Most profiles have skills in Python, R, SQL"
   ]
  },
  {
   "cell_type": "code",
   "execution_count": 15,
   "id": "add06dfb",
   "metadata": {
    "ExecuteTime": {
     "end_time": "2022-06-07T12:49:47.302493Z",
     "start_time": "2022-06-07T12:49:46.963441Z"
    }
   },
   "outputs": [
    {
     "data": {
      "image/png": "[encoded data removed]",
      "text/plain": [
       "<Figure size 1296x576 with 1 Axes>"
      ]
     },
     "metadata": {
      "needs_background": "light"
     },
     "output_type": "display_data"
    }
   ],
   "source": [
    "# Analyze the skills by metiers\n",
    "tech_by_metier = raw_filtered[[*unique_technologies, 'Metier']].groupby(\n",
    "    ['Metier']\n",
    ").sum()\n",
    "tech_by_metier = tech_by_metier[tech_by_metier.sum().sort_values(ascending=False).index].transpose()\n",
    "tech_by_metier.plot(kind=\"bar\", stacked=True, figsize=(18, 8))\n",
    "plt.title('Technology by Metier')\n",
    "plt.show()"
   ]
  },
  {
   "cell_type": "markdown",
   "id": "1d206fb3",
   "metadata": {},
   "source": [
    "We can quickly identify some technologies only known by Data architecte and Data Engineer. <br>\n",
    "For example Tableau is only for Data architecte and Yarn is only for Data Engineers <br>\n",
    "It is a bit harder to dissociate Data scientist and Lead Data scientist since they all know the same technologies <br>\n",
    "We can also observe that most known skils are known by all workers, Python, SQL, Java, Hadoop"
   ]
  },
  {
   "cell_type": "code",
   "execution_count": 16,
   "id": "e850bf52",
   "metadata": {
    "ExecuteTime": {
     "end_time": "2022-06-07T12:49:47.447021Z",
     "start_time": "2022-06-07T12:49:47.303597Z"
    }
   },
   "outputs": [
    {
     "data": {
      "image/png": "[encoded data removed]",
      "text/plain": [
       "<Figure size 1152x576 with 1 Axes>"
      ]
     },
     "metadata": {
      "needs_background": "light"
     },
     "output_type": "display_data"
    }
   ],
   "source": [
    "# Analyze Experience\n",
    "fig = plt.figure(figsize=(16, 8))\n",
    "sns.boxplot(data=raw_filtered, x='Metier', y='Experience')\n",
    "plt.show()"
   ]
  },
  {
   "cell_type": "markdown",
   "id": "a9eb04c7",
   "metadata": {},
   "source": [
    "Here we can see a clear different between the quantiles of the Data scientist and the Lead data scientist. <br>\n",
    "The experience might therefore help us to dissociate them"
   ]
  },
  {
   "cell_type": "code",
   "execution_count": 17,
   "id": "66e335a2",
   "metadata": {
    "ExecuteTime": {
     "end_time": "2022-06-07T12:49:47.454900Z",
     "start_time": "2022-06-07T12:49:47.448657Z"
    }
   },
   "outputs": [],
   "source": [
    "# Analyze Diplome\n",
    "# There are duplicates values in the diplome column\n",
    "def normalize_diplome(diplome):\n",
    "    if (diplome.lower().startswith('b')):\n",
    "        return 'bachelor'\n",
    "    elif (diplome.lower().startswith('m')):\n",
    "        return 'master'\n",
    "    elif (diplome.lower().startswith('p')):\n",
    "        return 'phd'\n",
    "    else:\n",
    "        return 'no'\n",
    "\n",
    "raw_filtered['Diplome'] = raw_filtered['Diplome'].apply(\n",
    "    normalize_diplome,\n",
    ")"
   ]
  },
  {
   "cell_type": "code",
   "execution_count": 18,
   "id": "aa78351a",
   "metadata": {
    "ExecuteTime": {
     "end_time": "2022-06-07T12:49:47.539040Z",
     "start_time": "2022-06-07T12:49:47.455751Z"
    }
   },
   "outputs": [
    {
     "data": {
      "text/plain": [
       "<Figure size 1152x576 with 0 Axes>"
      ]
     },
     "metadata": {},
     "output_type": "display_data"
    },
    {
     "data": {
      "image/png": "[encoded data removed]",
      "text/plain": [
       "<Figure size 1152x576 with 1 Axes>"
      ]
     },
     "metadata": {
      "needs_background": "light"
     },
     "output_type": "display_data"
    }
   ],
   "source": [
    "# Check the diplome by metier\n",
    "fig = plt.figure(figsize=(16, 8))\n",
    "raw_filtered.groupby(['Diplome', 'Metier']).size().unstack().plot(kind='bar', stacked=True, figsize=(16, 8))\n",
    "plt.show()"
   ]
  },
  {
   "cell_type": "markdown",
   "id": "b94896ce",
   "metadata": {},
   "source": [
    "Degree holders can hold any positions. However very few non-degree personnel are Lead data scientist or data scientist <br> We can further investigate"
   ]
  },
  {
   "cell_type": "code",
   "execution_count": 19,
   "id": "8dc0e9e5",
   "metadata": {
    "ExecuteTime": {
     "end_time": "2022-06-07T12:49:47.544411Z",
     "start_time": "2022-06-07T12:49:47.540372Z"
    }
   },
   "outputs": [],
   "source": [
    "def has_diplome(diplome):\n",
    "    if (diplome != 'no'):\n",
    "        return 'yes'\n",
    "    return 'no'\n",
    "\n",
    "raw_filtered['has_diplome'] = raw_filtered['Diplome'].apply(\n",
    "    has_diplome\n",
    ")"
   ]
  },
  {
   "cell_type": "code",
   "execution_count": 20,
   "id": "7dcd6fc8",
   "metadata": {
    "ExecuteTime": {
     "end_time": "2022-06-07T12:49:47.627004Z",
     "start_time": "2022-06-07T12:49:47.545729Z"
    }
   },
   "outputs": [
    {
     "data": {
      "text/plain": [
       "<Figure size 1152x576 with 0 Axes>"
      ]
     },
     "metadata": {},
     "output_type": "display_data"
    },
    {
     "data": {
      "image/png": "[encoded data removed]",
      "text/plain": [
       "<Figure size 1152x576 with 1 Axes>"
      ]
     },
     "metadata": {
      "needs_background": "light"
     },
     "output_type": "display_data"
    }
   ],
   "source": [
    "fig = plt.figure(figsize=(16, 8))\n",
    "raw_filtered.groupby(['has_diplome', 'Metier']).size().unstack().plot(kind='bar', stacked=True, figsize=(16, 8))\n",
    "plt.show()"
   ]
  },
  {
   "cell_type": "markdown",
   "id": "489e4ea4",
   "metadata": {},
   "source": [
    "We can see that you have very few chances to be a lead data scientist or a data scientist if you don't have any diplome"
   ]
  },
  {
   "cell_type": "code",
   "execution_count": 21,
   "id": "a5d566f3",
   "metadata": {
    "ExecuteTime": {
     "end_time": "2022-06-07T12:49:47.635212Z",
     "start_time": "2022-06-07T12:49:47.628858Z"
    }
   },
   "outputs": [],
   "source": [
    "# Analyze Entreprise\n",
    "def has_entrepise(entreprise):\n",
    "    if (not pd.isna(entreprise)):\n",
    "        return 'yes'\n",
    "    return 'no'\n",
    "\n",
    "raw_filtered['has_entreprise'] = raw_with_individual_technologies['Entreprise'].apply(\n",
    "    has_entrepise\n",
    ")"
   ]
  },
  {
   "cell_type": "code",
   "execution_count": 22,
   "id": "de4e8b6c",
   "metadata": {
    "ExecuteTime": {
     "end_time": "2022-06-07T12:49:47.718877Z",
     "start_time": "2022-06-07T12:49:47.637211Z"
    },
    "scrolled": false
   },
   "outputs": [
    {
     "data": {
      "text/plain": [
       "<Figure size 1152x576 with 0 Axes>"
      ]
     },
     "metadata": {},
     "output_type": "display_data"
    },
    {
     "data": {
      "image/png": "[encoded data removed]",
      "text/plain": [
       "<Figure size 1152x576 with 1 Axes>"
      ]
     },
     "metadata": {
      "needs_background": "light"
     },
     "output_type": "display_data"
    }
   ],
   "source": [
    "fig = plt.figure(figsize=(16, 8))\n",
    "raw_filtered.groupby(['has_entreprise', 'Metier']).size().unstack().plot(kind='bar', stacked=True, figsize=(16, 8))\n",
    "plt.show()"
   ]
  },
  {
   "cell_type": "markdown",
   "id": "2324640b",
   "metadata": {},
   "source": [
    "We can also see that you have few chances to be a lead data scientist or a data scientist if you don't have any diplome"
   ]
  },
  {
   "cell_type": "code",
   "execution_count": 23,
   "id": "b8d688c3",
   "metadata": {
    "ExecuteTime": {
     "end_time": "2022-06-07T12:49:47.722838Z",
     "start_time": "2022-06-07T12:49:47.720339Z"
    }
   },
   "outputs": [],
   "source": [
    "# Feature engineering for experience\n",
    "# You can consider as senior after 5 years of experience\n",
    "raw_filtered['is_senior'] = (raw_filtered['Experience'] >= 5.0).astype(int)"
   ]
  },
  {
   "cell_type": "code",
   "execution_count": 24,
   "id": "83862151",
   "metadata": {
    "ExecuteTime": {
     "end_time": "2022-06-07T12:49:47.799534Z",
     "start_time": "2022-06-07T12:49:47.723935Z"
    }
   },
   "outputs": [
    {
     "data": {
      "text/plain": [
       "<Figure size 1152x576 with 0 Axes>"
      ]
     },
     "metadata": {},
     "output_type": "display_data"
    },
    {
     "data": {
      "image/png": "[encoded data removed]",
      "text/plain": [
       "<Figure size 1152x576 with 1 Axes>"
      ]
     },
     "metadata": {
      "needs_background": "light"
     },
     "output_type": "display_data"
    }
   ],
   "source": [
    "fig = plt.figure(figsize=(16, 8))\n",
    "raw_filtered.groupby(['is_senior', 'Metier']).size().unstack().plot(kind='bar', stacked=True, figsize=(16, 8))\n",
    "plt.show()"
   ]
  },
  {
   "cell_type": "markdown",
   "id": "9bdb1eae",
   "metadata": {},
   "source": [
    "Considering the proportion of our classes, we can see that there is very few data scientist with more than 5 years but a good number of lead data scientist with more than 5 years"
   ]
  },
  {
   "cell_type": "code",
   "execution_count": 25,
   "id": "6d2d8261",
   "metadata": {
    "ExecuteTime": {
     "end_time": "2022-06-07T12:49:47.814019Z",
     "start_time": "2022-06-07T12:49:47.801014Z"
    }
   },
   "outputs": [
    {
     "data": {
      "text/html": [
       "<div>\n",
       "<style scoped>\n",
       "    .dataframe tbody tr th:only-of-type {\n",
       "        vertical-align: middle;\n",
       "    }\n",
       "\n",
       "    .dataframe tbody tr th {\n",
       "        vertical-align: top;\n",
       "    }\n",
       "\n",
       "    .dataframe thead th {\n",
       "        text-align: right;\n",
       "    }\n",
       "</style>\n",
       "<table border=\"1\" class=\"dataframe\">\n",
       "  <thead>\n",
       "    <tr style=\"text-align: right;\">\n",
       "      <th></th>\n",
       "      <th>Metier</th>\n",
       "      <th>Diplome</th>\n",
       "      <th>Experience</th>\n",
       "      <th>elasticsearch</th>\n",
       "      <th>vertica</th>\n",
       "      <th>deep learning</th>\n",
       "      <th>vba</th>\n",
       "      <th>mysql</th>\n",
       "      <th>sas</th>\n",
       "      <th>perl</th>\n",
       "      <th>postgresql</th>\n",
       "      <th>matplotlib</th>\n",
       "      <th>r</th>\n",
       "      <th>pycharm</th>\n",
       "      <th>linux</th>\n",
       "      <th>ruby</th>\n",
       "      <th>gnu</th>\n",
       "      <th>c</th>\n",
       "      <th>tensorflow</th>\n",
       "      <th>excel</th>\n",
       "      <th>sql</th>\n",
       "      <th>oracle</th>\n",
       "      <th>hadoop(hdfs)</th>\n",
       "      <th>tableau</th>\n",
       "      <th>spss</th>\n",
       "      <th>kafka</th>\n",
       "      <th>hadoop</th>\n",
       "      <th>teradata</th>\n",
       "      <th>nosq</th>\n",
       "      <th>yarn</th>\n",
       "      <th>c++</th>\n",
       "      <th>scikit-learn</th>\n",
       "      <th>numpy</th>\n",
       "      <th>docker</th>\n",
       "      <th>kibana</th>\n",
       "      <th>ai</th>\n",
       "      <th>python</th>\n",
       "      <th>hbase</th>\n",
       "      <th>scoring</th>\n",
       "      <th>pig</th>\n",
       "      <th>nosql</th>\n",
       "      <th>machine learning</th>\n",
       "      <th>windows</th>\n",
       "      <th>hive</th>\n",
       "      <th>mongodb</th>\n",
       "      <th>redshift</th>\n",
       "      <th>scala</th>\n",
       "      <th>aws</th>\n",
       "      <th>cassandra</th>\n",
       "      <th>map-reduce</th>\n",
       "      <th>microsoft azure</th>\n",
       "      <th>anglais</th>\n",
       "      <th>pyspark</th>\n",
       "      <th>matlab</th>\n",
       "      <th>hdfs</th>\n",
       "      <th>java</th>\n",
       "      <th>spark</th>\n",
       "      <th>big data</th>\n",
       "      <th>mariadb</th>\n",
       "      <th>has_diplome</th>\n",
       "      <th>has_entreprise</th>\n",
       "      <th>is_senior</th>\n",
       "    </tr>\n",
       "  </thead>\n",
       "  <tbody>\n",
       "    <tr>\n",
       "      <th>7945</th>\n",
       "      <td>Data scientist</td>\n",
       "      <td>master</td>\n",
       "      <td>3.5</td>\n",
       "      <td>0</td>\n",
       "      <td>0</td>\n",
       "      <td>1</td>\n",
       "      <td>0</td>\n",
       "      <td>0</td>\n",
       "      <td>0</td>\n",
       "      <td>0</td>\n",
       "      <td>0</td>\n",
       "      <td>0</td>\n",
       "      <td>1</td>\n",
       "      <td>0</td>\n",
       "      <td>0</td>\n",
       "      <td>0</td>\n",
       "      <td>0</td>\n",
       "      <td>0</td>\n",
       "      <td>1</td>\n",
       "      <td>0</td>\n",
       "      <td>0</td>\n",
       "      <td>0</td>\n",
       "      <td>0</td>\n",
       "      <td>0</td>\n",
       "      <td>0</td>\n",
       "      <td>0</td>\n",
       "      <td>0</td>\n",
       "      <td>0</td>\n",
       "      <td>0</td>\n",
       "      <td>0</td>\n",
       "      <td>0</td>\n",
       "      <td>1</td>\n",
       "      <td>0</td>\n",
       "      <td>0</td>\n",
       "      <td>0</td>\n",
       "      <td>0</td>\n",
       "      <td>1</td>\n",
       "      <td>0</td>\n",
       "      <td>0</td>\n",
       "      <td>0</td>\n",
       "      <td>0</td>\n",
       "      <td>0</td>\n",
       "      <td>0</td>\n",
       "      <td>0</td>\n",
       "      <td>0</td>\n",
       "      <td>0</td>\n",
       "      <td>0</td>\n",
       "      <td>0</td>\n",
       "      <td>0</td>\n",
       "      <td>0</td>\n",
       "      <td>0</td>\n",
       "      <td>0</td>\n",
       "      <td>0</td>\n",
       "      <td>0</td>\n",
       "      <td>0</td>\n",
       "      <td>0</td>\n",
       "      <td>0</td>\n",
       "      <td>0</td>\n",
       "      <td>0</td>\n",
       "      <td>yes</td>\n",
       "      <td>yes</td>\n",
       "      <td>0</td>\n",
       "    </tr>\n",
       "    <tr>\n",
       "      <th>8633</th>\n",
       "      <td>Data architecte</td>\n",
       "      <td>master</td>\n",
       "      <td>3.5</td>\n",
       "      <td>1</td>\n",
       "      <td>0</td>\n",
       "      <td>0</td>\n",
       "      <td>0</td>\n",
       "      <td>0</td>\n",
       "      <td>0</td>\n",
       "      <td>0</td>\n",
       "      <td>0</td>\n",
       "      <td>0</td>\n",
       "      <td>0</td>\n",
       "      <td>0</td>\n",
       "      <td>0</td>\n",
       "      <td>0</td>\n",
       "      <td>0</td>\n",
       "      <td>0</td>\n",
       "      <td>0</td>\n",
       "      <td>0</td>\n",
       "      <td>0</td>\n",
       "      <td>0</td>\n",
       "      <td>0</td>\n",
       "      <td>0</td>\n",
       "      <td>0</td>\n",
       "      <td>0</td>\n",
       "      <td>0</td>\n",
       "      <td>0</td>\n",
       "      <td>0</td>\n",
       "      <td>0</td>\n",
       "      <td>0</td>\n",
       "      <td>0</td>\n",
       "      <td>0</td>\n",
       "      <td>0</td>\n",
       "      <td>1</td>\n",
       "      <td>0</td>\n",
       "      <td>0</td>\n",
       "      <td>0</td>\n",
       "      <td>0</td>\n",
       "      <td>0</td>\n",
       "      <td>0</td>\n",
       "      <td>0</td>\n",
       "      <td>0</td>\n",
       "      <td>0</td>\n",
       "      <td>0</td>\n",
       "      <td>0</td>\n",
       "      <td>0</td>\n",
       "      <td>1</td>\n",
       "      <td>0</td>\n",
       "      <td>0</td>\n",
       "      <td>0</td>\n",
       "      <td>0</td>\n",
       "      <td>0</td>\n",
       "      <td>0</td>\n",
       "      <td>0</td>\n",
       "      <td>1</td>\n",
       "      <td>0</td>\n",
       "      <td>0</td>\n",
       "      <td>0</td>\n",
       "      <td>yes</td>\n",
       "      <td>yes</td>\n",
       "      <td>0</td>\n",
       "    </tr>\n",
       "    <tr>\n",
       "      <th>7639</th>\n",
       "      <td>Lead data scientist</td>\n",
       "      <td>phd</td>\n",
       "      <td>NaN</td>\n",
       "      <td>0</td>\n",
       "      <td>0</td>\n",
       "      <td>0</td>\n",
       "      <td>0</td>\n",
       "      <td>0</td>\n",
       "      <td>0</td>\n",
       "      <td>0</td>\n",
       "      <td>0</td>\n",
       "      <td>0</td>\n",
       "      <td>1</td>\n",
       "      <td>0</td>\n",
       "      <td>0</td>\n",
       "      <td>0</td>\n",
       "      <td>0</td>\n",
       "      <td>0</td>\n",
       "      <td>0</td>\n",
       "      <td>0</td>\n",
       "      <td>1</td>\n",
       "      <td>0</td>\n",
       "      <td>0</td>\n",
       "      <td>0</td>\n",
       "      <td>0</td>\n",
       "      <td>0</td>\n",
       "      <td>0</td>\n",
       "      <td>0</td>\n",
       "      <td>0</td>\n",
       "      <td>0</td>\n",
       "      <td>0</td>\n",
       "      <td>0</td>\n",
       "      <td>0</td>\n",
       "      <td>0</td>\n",
       "      <td>0</td>\n",
       "      <td>0</td>\n",
       "      <td>1</td>\n",
       "      <td>0</td>\n",
       "      <td>0</td>\n",
       "      <td>0</td>\n",
       "      <td>0</td>\n",
       "      <td>0</td>\n",
       "      <td>0</td>\n",
       "      <td>0</td>\n",
       "      <td>0</td>\n",
       "      <td>0</td>\n",
       "      <td>0</td>\n",
       "      <td>0</td>\n",
       "      <td>0</td>\n",
       "      <td>0</td>\n",
       "      <td>0</td>\n",
       "      <td>0</td>\n",
       "      <td>0</td>\n",
       "      <td>0</td>\n",
       "      <td>0</td>\n",
       "      <td>0</td>\n",
       "      <td>0</td>\n",
       "      <td>1</td>\n",
       "      <td>0</td>\n",
       "      <td>yes</td>\n",
       "      <td>yes</td>\n",
       "      <td>0</td>\n",
       "    </tr>\n",
       "    <tr>\n",
       "      <th>5048</th>\n",
       "      <td>Data scientist</td>\n",
       "      <td>phd</td>\n",
       "      <td>1.5</td>\n",
       "      <td>0</td>\n",
       "      <td>0</td>\n",
       "      <td>0</td>\n",
       "      <td>0</td>\n",
       "      <td>0</td>\n",
       "      <td>0</td>\n",
       "      <td>0</td>\n",
       "      <td>0</td>\n",
       "      <td>0</td>\n",
       "      <td>1</td>\n",
       "      <td>0</td>\n",
       "      <td>0</td>\n",
       "      <td>0</td>\n",
       "      <td>0</td>\n",
       "      <td>0</td>\n",
       "      <td>0</td>\n",
       "      <td>0</td>\n",
       "      <td>1</td>\n",
       "      <td>0</td>\n",
       "      <td>0</td>\n",
       "      <td>0</td>\n",
       "      <td>0</td>\n",
       "      <td>0</td>\n",
       "      <td>0</td>\n",
       "      <td>0</td>\n",
       "      <td>0</td>\n",
       "      <td>0</td>\n",
       "      <td>0</td>\n",
       "      <td>0</td>\n",
       "      <td>0</td>\n",
       "      <td>0</td>\n",
       "      <td>0</td>\n",
       "      <td>0</td>\n",
       "      <td>1</td>\n",
       "      <td>0</td>\n",
       "      <td>0</td>\n",
       "      <td>0</td>\n",
       "      <td>0</td>\n",
       "      <td>0</td>\n",
       "      <td>0</td>\n",
       "      <td>0</td>\n",
       "      <td>0</td>\n",
       "      <td>0</td>\n",
       "      <td>0</td>\n",
       "      <td>0</td>\n",
       "      <td>0</td>\n",
       "      <td>0</td>\n",
       "      <td>1</td>\n",
       "      <td>0</td>\n",
       "      <td>0</td>\n",
       "      <td>0</td>\n",
       "      <td>0</td>\n",
       "      <td>0</td>\n",
       "      <td>0</td>\n",
       "      <td>0</td>\n",
       "      <td>0</td>\n",
       "      <td>yes</td>\n",
       "      <td>yes</td>\n",
       "      <td>0</td>\n",
       "    </tr>\n",
       "    <tr>\n",
       "      <th>4450</th>\n",
       "      <td>Data scientist</td>\n",
       "      <td>master</td>\n",
       "      <td>3.0</td>\n",
       "      <td>0</td>\n",
       "      <td>0</td>\n",
       "      <td>0</td>\n",
       "      <td>0</td>\n",
       "      <td>0</td>\n",
       "      <td>0</td>\n",
       "      <td>0</td>\n",
       "      <td>0</td>\n",
       "      <td>0</td>\n",
       "      <td>1</td>\n",
       "      <td>0</td>\n",
       "      <td>0</td>\n",
       "      <td>0</td>\n",
       "      <td>0</td>\n",
       "      <td>1</td>\n",
       "      <td>0</td>\n",
       "      <td>0</td>\n",
       "      <td>0</td>\n",
       "      <td>0</td>\n",
       "      <td>0</td>\n",
       "      <td>0</td>\n",
       "      <td>0</td>\n",
       "      <td>0</td>\n",
       "      <td>0</td>\n",
       "      <td>0</td>\n",
       "      <td>0</td>\n",
       "      <td>0</td>\n",
       "      <td>1</td>\n",
       "      <td>0</td>\n",
       "      <td>0</td>\n",
       "      <td>0</td>\n",
       "      <td>0</td>\n",
       "      <td>0</td>\n",
       "      <td>1</td>\n",
       "      <td>0</td>\n",
       "      <td>0</td>\n",
       "      <td>0</td>\n",
       "      <td>0</td>\n",
       "      <td>0</td>\n",
       "      <td>0</td>\n",
       "      <td>0</td>\n",
       "      <td>0</td>\n",
       "      <td>0</td>\n",
       "      <td>0</td>\n",
       "      <td>0</td>\n",
       "      <td>0</td>\n",
       "      <td>0</td>\n",
       "      <td>0</td>\n",
       "      <td>0</td>\n",
       "      <td>0</td>\n",
       "      <td>0</td>\n",
       "      <td>0</td>\n",
       "      <td>1</td>\n",
       "      <td>0</td>\n",
       "      <td>0</td>\n",
       "      <td>0</td>\n",
       "      <td>yes</td>\n",
       "      <td>yes</td>\n",
       "      <td>0</td>\n",
       "    </tr>\n",
       "  </tbody>\n",
       "</table>\n",
       "</div>"
      ],
      "text/plain": [
       "                   Metier Diplome  Experience  elasticsearch  vertica  \\\n",
       "7945       Data scientist  master         3.5              0        0   \n",
       "8633      Data architecte  master         3.5              1        0   \n",
       "7639  Lead data scientist     phd         NaN              0        0   \n",
       "5048       Data scientist     phd         1.5              0        0   \n",
       "4450       Data scientist  master         3.0              0        0   \n",
       "\n",
       "      deep learning  vba  mysql  sas  perl  postgresql  matplotlib  r  \\\n",
       "7945              1    0      0    0     0           0           0  1   \n",
       "8633              0    0      0    0     0           0           0  0   \n",
       "7639              0    0      0    0     0           0           0  1   \n",
       "5048              0    0      0    0     0           0           0  1   \n",
       "4450              0    0      0    0     0           0           0  1   \n",
       "\n",
       "      pycharm  linux  ruby  gnu  c  tensorflow  excel  sql  oracle  \\\n",
       "7945        0      0     0    0  0           1      0    0       0   \n",
       "8633        0      0     0    0  0           0      0    0       0   \n",
       "7639        0      0     0    0  0           0      0    1       0   \n",
       "5048        0      0     0    0  0           0      0    1       0   \n",
       "4450        0      0     0    0  1           0      0    0       0   \n",
       "\n",
       "      hadoop(hdfs)  tableau  spss  kafka  hadoop  teradata  nosq  yarn  c++  \\\n",
       "7945             0        0     0      0       0         0     0     0    0   \n",
       "8633             0        0     0      0       0         0     0     0    0   \n",
       "7639             0        0     0      0       0         0     0     0    0   \n",
       "5048             0        0     0      0       0         0     0     0    0   \n",
       "4450             0        0     0      0       0         0     0     0    1   \n",
       "\n",
       "      scikit-learn  numpy  docker  kibana  ai  python  hbase  scoring  pig  \\\n",
       "7945             1      0       0       0   0       1      0        0    0   \n",
       "8633             0      0       0       1   0       0      0        0    0   \n",
       "7639             0      0       0       0   0       1      0        0    0   \n",
       "5048             0      0       0       0   0       1      0        0    0   \n",
       "4450             0      0       0       0   0       1      0        0    0   \n",
       "\n",
       "      nosql  machine learning  windows  hive  mongodb  redshift  scala  aws  \\\n",
       "7945      0                 0        0     0        0         0      0    0   \n",
       "8633      0                 0        0     0        0         0      0    1   \n",
       "7639      0                 0        0     0        0         0      0    0   \n",
       "5048      0                 0        0     0        0         0      0    0   \n",
       "4450      0                 0        0     0        0         0      0    0   \n",
       "\n",
       "      cassandra  map-reduce  microsoft azure  anglais  pyspark  matlab  hdfs  \\\n",
       "7945          0           0                0        0        0       0     0   \n",
       "8633          0           0                0        0        0       0     0   \n",
       "7639          0           0                0        0        0       0     0   \n",
       "5048          0           0                1        0        0       0     0   \n",
       "4450          0           0                0        0        0       0     0   \n",
       "\n",
       "      java  spark  big data  mariadb has_diplome has_entreprise  is_senior  \n",
       "7945     0      0         0        0         yes            yes          0  \n",
       "8633     1      0         0        0         yes            yes          0  \n",
       "7639     0      0         1        0         yes            yes          0  \n",
       "5048     0      0         0        0         yes            yes          0  \n",
       "4450     1      0         0        0         yes            yes          0  "
      ]
     },
     "execution_count": 25,
     "metadata": {},
     "output_type": "execute_result"
    }
   ],
   "source": [
    "raw_filtered.sample(n=5)"
   ]
  },
  {
   "cell_type": "code",
   "execution_count": 26,
   "id": "b20929b5",
   "metadata": {
    "ExecuteTime": {
     "end_time": "2022-06-07T12:49:48.339607Z",
     "start_time": "2022-06-07T12:49:47.815201Z"
    }
   },
   "outputs": [
    {
     "data": {
      "image/png": "[encoded data removed]",
      "text/plain": [
       "<Figure size 1152x576 with 1 Axes>"
      ]
     },
     "metadata": {
      "needs_background": "light"
     },
     "output_type": "display_data"
    }
   ],
   "source": [
    "# Checking missing values\n",
    "fig = plt.figure(figsize=(16, 8))\n",
    "sns.heatmap(raw_filtered.isnull(), cbar=False)\n",
    "plt.show()"
   ]
  },
  {
   "cell_type": "code",
   "execution_count": 27,
   "id": "77364f27",
   "metadata": {
    "ExecuteTime": {
     "end_time": "2022-06-07T12:49:48.347977Z",
     "start_time": "2022-06-07T12:49:48.340400Z"
    }
   },
   "outputs": [
    {
     "data": {
      "text/plain": [
       "0"
      ]
     },
     "execution_count": 27,
     "metadata": {},
     "output_type": "execute_result"
    }
   ],
   "source": [
    "# Investigate missing values in experience\n",
    "# Missing experience can due to data not recorder\n",
    "# Or it can also mean no experience, 0\n",
    "# The ideal solution would be to discuss with the client \n",
    "# But due to time, I will drop these values\n",
    "raw_cleaned = raw_filtered.dropna(subset=['Experience'])\n",
    "raw_cleaned.isnull().sum().sum()"
   ]
  },
  {
   "cell_type": "code",
   "execution_count": 28,
   "id": "ca6ffeed",
   "metadata": {
    "ExecuteTime": {
     "end_time": "2022-06-07T12:49:48.363826Z",
     "start_time": "2022-06-07T12:49:48.352141Z"
    }
   },
   "outputs": [
    {
     "data": {
      "text/html": [
       "<div>\n",
       "<style scoped>\n",
       "    .dataframe tbody tr th:only-of-type {\n",
       "        vertical-align: middle;\n",
       "    }\n",
       "\n",
       "    .dataframe tbody tr th {\n",
       "        vertical-align: top;\n",
       "    }\n",
       "\n",
       "    .dataframe thead th {\n",
       "        text-align: right;\n",
       "    }\n",
       "</style>\n",
       "<table border=\"1\" class=\"dataframe\">\n",
       "  <thead>\n",
       "    <tr style=\"text-align: right;\">\n",
       "      <th></th>\n",
       "      <th>Metier</th>\n",
       "      <th>Diplome</th>\n",
       "      <th>Experience</th>\n",
       "      <th>elasticsearch</th>\n",
       "      <th>vertica</th>\n",
       "      <th>deep learning</th>\n",
       "      <th>vba</th>\n",
       "      <th>mysql</th>\n",
       "      <th>sas</th>\n",
       "      <th>perl</th>\n",
       "      <th>postgresql</th>\n",
       "      <th>matplotlib</th>\n",
       "      <th>r</th>\n",
       "      <th>pycharm</th>\n",
       "      <th>linux</th>\n",
       "      <th>ruby</th>\n",
       "      <th>gnu</th>\n",
       "      <th>c</th>\n",
       "      <th>tensorflow</th>\n",
       "      <th>excel</th>\n",
       "      <th>sql</th>\n",
       "      <th>oracle</th>\n",
       "      <th>hadoop(hdfs)</th>\n",
       "      <th>tableau</th>\n",
       "      <th>spss</th>\n",
       "      <th>kafka</th>\n",
       "      <th>hadoop</th>\n",
       "      <th>teradata</th>\n",
       "      <th>nosq</th>\n",
       "      <th>yarn</th>\n",
       "      <th>c++</th>\n",
       "      <th>scikit-learn</th>\n",
       "      <th>numpy</th>\n",
       "      <th>docker</th>\n",
       "      <th>kibana</th>\n",
       "      <th>ai</th>\n",
       "      <th>python</th>\n",
       "      <th>hbase</th>\n",
       "      <th>scoring</th>\n",
       "      <th>pig</th>\n",
       "      <th>nosql</th>\n",
       "      <th>machine learning</th>\n",
       "      <th>windows</th>\n",
       "      <th>hive</th>\n",
       "      <th>mongodb</th>\n",
       "      <th>redshift</th>\n",
       "      <th>scala</th>\n",
       "      <th>aws</th>\n",
       "      <th>cassandra</th>\n",
       "      <th>map-reduce</th>\n",
       "      <th>microsoft azure</th>\n",
       "      <th>anglais</th>\n",
       "      <th>pyspark</th>\n",
       "      <th>matlab</th>\n",
       "      <th>hdfs</th>\n",
       "      <th>java</th>\n",
       "      <th>spark</th>\n",
       "      <th>big data</th>\n",
       "      <th>mariadb</th>\n",
       "      <th>has_diplome</th>\n",
       "      <th>has_entreprise</th>\n",
       "      <th>is_senior</th>\n",
       "    </tr>\n",
       "  </thead>\n",
       "  <tbody>\n",
       "    <tr>\n",
       "      <th>3154</th>\n",
       "      <td>Data architecte</td>\n",
       "      <td>phd</td>\n",
       "      <td>1.5</td>\n",
       "      <td>0</td>\n",
       "      <td>0</td>\n",
       "      <td>0</td>\n",
       "      <td>0</td>\n",
       "      <td>0</td>\n",
       "      <td>0</td>\n",
       "      <td>0</td>\n",
       "      <td>0</td>\n",
       "      <td>0</td>\n",
       "      <td>0</td>\n",
       "      <td>0</td>\n",
       "      <td>0</td>\n",
       "      <td>0</td>\n",
       "      <td>0</td>\n",
       "      <td>0</td>\n",
       "      <td>0</td>\n",
       "      <td>0</td>\n",
       "      <td>0</td>\n",
       "      <td>0</td>\n",
       "      <td>0</td>\n",
       "      <td>0</td>\n",
       "      <td>0</td>\n",
       "      <td>1</td>\n",
       "      <td>1</td>\n",
       "      <td>0</td>\n",
       "      <td>0</td>\n",
       "      <td>0</td>\n",
       "      <td>0</td>\n",
       "      <td>0</td>\n",
       "      <td>0</td>\n",
       "      <td>0</td>\n",
       "      <td>0</td>\n",
       "      <td>0</td>\n",
       "      <td>1</td>\n",
       "      <td>0</td>\n",
       "      <td>0</td>\n",
       "      <td>0</td>\n",
       "      <td>0</td>\n",
       "      <td>0</td>\n",
       "      <td>0</td>\n",
       "      <td>0</td>\n",
       "      <td>0</td>\n",
       "      <td>0</td>\n",
       "      <td>0</td>\n",
       "      <td>1</td>\n",
       "      <td>0</td>\n",
       "      <td>0</td>\n",
       "      <td>0</td>\n",
       "      <td>0</td>\n",
       "      <td>0</td>\n",
       "      <td>0</td>\n",
       "      <td>0</td>\n",
       "      <td>0</td>\n",
       "      <td>0</td>\n",
       "      <td>0</td>\n",
       "      <td>0</td>\n",
       "      <td>yes</td>\n",
       "      <td>yes</td>\n",
       "      <td>0</td>\n",
       "    </tr>\n",
       "    <tr>\n",
       "      <th>2263</th>\n",
       "      <td>Data scientist</td>\n",
       "      <td>phd</td>\n",
       "      <td>1.5</td>\n",
       "      <td>0</td>\n",
       "      <td>0</td>\n",
       "      <td>0</td>\n",
       "      <td>0</td>\n",
       "      <td>0</td>\n",
       "      <td>0</td>\n",
       "      <td>0</td>\n",
       "      <td>0</td>\n",
       "      <td>0</td>\n",
       "      <td>1</td>\n",
       "      <td>0</td>\n",
       "      <td>0</td>\n",
       "      <td>0</td>\n",
       "      <td>0</td>\n",
       "      <td>0</td>\n",
       "      <td>0</td>\n",
       "      <td>0</td>\n",
       "      <td>1</td>\n",
       "      <td>0</td>\n",
       "      <td>0</td>\n",
       "      <td>0</td>\n",
       "      <td>0</td>\n",
       "      <td>0</td>\n",
       "      <td>0</td>\n",
       "      <td>0</td>\n",
       "      <td>0</td>\n",
       "      <td>0</td>\n",
       "      <td>0</td>\n",
       "      <td>0</td>\n",
       "      <td>0</td>\n",
       "      <td>0</td>\n",
       "      <td>0</td>\n",
       "      <td>0</td>\n",
       "      <td>1</td>\n",
       "      <td>0</td>\n",
       "      <td>0</td>\n",
       "      <td>0</td>\n",
       "      <td>0</td>\n",
       "      <td>0</td>\n",
       "      <td>0</td>\n",
       "      <td>0</td>\n",
       "      <td>0</td>\n",
       "      <td>0</td>\n",
       "      <td>0</td>\n",
       "      <td>0</td>\n",
       "      <td>0</td>\n",
       "      <td>0</td>\n",
       "      <td>0</td>\n",
       "      <td>0</td>\n",
       "      <td>0</td>\n",
       "      <td>0</td>\n",
       "      <td>0</td>\n",
       "      <td>0</td>\n",
       "      <td>0</td>\n",
       "      <td>1</td>\n",
       "      <td>0</td>\n",
       "      <td>yes</td>\n",
       "      <td>yes</td>\n",
       "      <td>0</td>\n",
       "    </tr>\n",
       "    <tr>\n",
       "      <th>1043</th>\n",
       "      <td>Data scientist</td>\n",
       "      <td>bachelor</td>\n",
       "      <td>7.0</td>\n",
       "      <td>0</td>\n",
       "      <td>0</td>\n",
       "      <td>0</td>\n",
       "      <td>0</td>\n",
       "      <td>0</td>\n",
       "      <td>0</td>\n",
       "      <td>0</td>\n",
       "      <td>0</td>\n",
       "      <td>0</td>\n",
       "      <td>1</td>\n",
       "      <td>0</td>\n",
       "      <td>0</td>\n",
       "      <td>0</td>\n",
       "      <td>0</td>\n",
       "      <td>0</td>\n",
       "      <td>0</td>\n",
       "      <td>1</td>\n",
       "      <td>0</td>\n",
       "      <td>0</td>\n",
       "      <td>0</td>\n",
       "      <td>0</td>\n",
       "      <td>0</td>\n",
       "      <td>0</td>\n",
       "      <td>0</td>\n",
       "      <td>0</td>\n",
       "      <td>0</td>\n",
       "      <td>0</td>\n",
       "      <td>0</td>\n",
       "      <td>0</td>\n",
       "      <td>0</td>\n",
       "      <td>0</td>\n",
       "      <td>0</td>\n",
       "      <td>0</td>\n",
       "      <td>1</td>\n",
       "      <td>0</td>\n",
       "      <td>0</td>\n",
       "      <td>0</td>\n",
       "      <td>0</td>\n",
       "      <td>1</td>\n",
       "      <td>0</td>\n",
       "      <td>0</td>\n",
       "      <td>0</td>\n",
       "      <td>0</td>\n",
       "      <td>0</td>\n",
       "      <td>0</td>\n",
       "      <td>0</td>\n",
       "      <td>0</td>\n",
       "      <td>0</td>\n",
       "      <td>1</td>\n",
       "      <td>0</td>\n",
       "      <td>1</td>\n",
       "      <td>0</td>\n",
       "      <td>0</td>\n",
       "      <td>0</td>\n",
       "      <td>0</td>\n",
       "      <td>0</td>\n",
       "      <td>yes</td>\n",
       "      <td>yes</td>\n",
       "      <td>1</td>\n",
       "    </tr>\n",
       "    <tr>\n",
       "      <th>5344</th>\n",
       "      <td>Data architecte</td>\n",
       "      <td>no</td>\n",
       "      <td>3.5</td>\n",
       "      <td>0</td>\n",
       "      <td>0</td>\n",
       "      <td>0</td>\n",
       "      <td>0</td>\n",
       "      <td>0</td>\n",
       "      <td>0</td>\n",
       "      <td>0</td>\n",
       "      <td>0</td>\n",
       "      <td>0</td>\n",
       "      <td>0</td>\n",
       "      <td>0</td>\n",
       "      <td>0</td>\n",
       "      <td>0</td>\n",
       "      <td>0</td>\n",
       "      <td>0</td>\n",
       "      <td>0</td>\n",
       "      <td>0</td>\n",
       "      <td>0</td>\n",
       "      <td>0</td>\n",
       "      <td>0</td>\n",
       "      <td>0</td>\n",
       "      <td>0</td>\n",
       "      <td>0</td>\n",
       "      <td>0</td>\n",
       "      <td>0</td>\n",
       "      <td>0</td>\n",
       "      <td>0</td>\n",
       "      <td>0</td>\n",
       "      <td>0</td>\n",
       "      <td>0</td>\n",
       "      <td>0</td>\n",
       "      <td>0</td>\n",
       "      <td>0</td>\n",
       "      <td>1</td>\n",
       "      <td>0</td>\n",
       "      <td>0</td>\n",
       "      <td>0</td>\n",
       "      <td>0</td>\n",
       "      <td>0</td>\n",
       "      <td>0</td>\n",
       "      <td>0</td>\n",
       "      <td>1</td>\n",
       "      <td>0</td>\n",
       "      <td>1</td>\n",
       "      <td>0</td>\n",
       "      <td>0</td>\n",
       "      <td>0</td>\n",
       "      <td>0</td>\n",
       "      <td>0</td>\n",
       "      <td>0</td>\n",
       "      <td>0</td>\n",
       "      <td>0</td>\n",
       "      <td>1</td>\n",
       "      <td>0</td>\n",
       "      <td>0</td>\n",
       "      <td>0</td>\n",
       "      <td>no</td>\n",
       "      <td>no</td>\n",
       "      <td>0</td>\n",
       "    </tr>\n",
       "    <tr>\n",
       "      <th>1872</th>\n",
       "      <td>Data scientist</td>\n",
       "      <td>bachelor</td>\n",
       "      <td>1.0</td>\n",
       "      <td>0</td>\n",
       "      <td>0</td>\n",
       "      <td>0</td>\n",
       "      <td>0</td>\n",
       "      <td>0</td>\n",
       "      <td>0</td>\n",
       "      <td>0</td>\n",
       "      <td>0</td>\n",
       "      <td>0</td>\n",
       "      <td>1</td>\n",
       "      <td>0</td>\n",
       "      <td>0</td>\n",
       "      <td>0</td>\n",
       "      <td>0</td>\n",
       "      <td>0</td>\n",
       "      <td>1</td>\n",
       "      <td>0</td>\n",
       "      <td>0</td>\n",
       "      <td>0</td>\n",
       "      <td>0</td>\n",
       "      <td>0</td>\n",
       "      <td>0</td>\n",
       "      <td>0</td>\n",
       "      <td>0</td>\n",
       "      <td>0</td>\n",
       "      <td>0</td>\n",
       "      <td>0</td>\n",
       "      <td>0</td>\n",
       "      <td>0</td>\n",
       "      <td>0</td>\n",
       "      <td>0</td>\n",
       "      <td>0</td>\n",
       "      <td>0</td>\n",
       "      <td>1</td>\n",
       "      <td>0</td>\n",
       "      <td>0</td>\n",
       "      <td>0</td>\n",
       "      <td>0</td>\n",
       "      <td>0</td>\n",
       "      <td>0</td>\n",
       "      <td>0</td>\n",
       "      <td>0</td>\n",
       "      <td>0</td>\n",
       "      <td>0</td>\n",
       "      <td>0</td>\n",
       "      <td>0</td>\n",
       "      <td>0</td>\n",
       "      <td>0</td>\n",
       "      <td>0</td>\n",
       "      <td>0</td>\n",
       "      <td>0</td>\n",
       "      <td>0</td>\n",
       "      <td>0</td>\n",
       "      <td>0</td>\n",
       "      <td>1</td>\n",
       "      <td>0</td>\n",
       "      <td>yes</td>\n",
       "      <td>yes</td>\n",
       "      <td>0</td>\n",
       "    </tr>\n",
       "  </tbody>\n",
       "</table>\n",
       "</div>"
      ],
      "text/plain": [
       "               Metier   Diplome  Experience  elasticsearch  vertica  \\\n",
       "3154  Data architecte       phd         1.5              0        0   \n",
       "2263   Data scientist       phd         1.5              0        0   \n",
       "1043   Data scientist  bachelor         7.0              0        0   \n",
       "5344  Data architecte        no         3.5              0        0   \n",
       "1872   Data scientist  bachelor         1.0              0        0   \n",
       "\n",
       "      deep learning  vba  mysql  sas  perl  postgresql  matplotlib  r  \\\n",
       "3154              0    0      0    0     0           0           0  0   \n",
       "2263              0    0      0    0     0           0           0  1   \n",
       "1043              0    0      0    0     0           0           0  1   \n",
       "5344              0    0      0    0     0           0           0  0   \n",
       "1872              0    0      0    0     0           0           0  1   \n",
       "\n",
       "      pycharm  linux  ruby  gnu  c  tensorflow  excel  sql  oracle  \\\n",
       "3154        0      0     0    0  0           0      0    0       0   \n",
       "2263        0      0     0    0  0           0      0    1       0   \n",
       "1043        0      0     0    0  0           0      1    0       0   \n",
       "5344        0      0     0    0  0           0      0    0       0   \n",
       "1872        0      0     0    0  0           1      0    0       0   \n",
       "\n",
       "      hadoop(hdfs)  tableau  spss  kafka  hadoop  teradata  nosq  yarn  c++  \\\n",
       "3154             0        0     0      1       1         0     0     0    0   \n",
       "2263             0        0     0      0       0         0     0     0    0   \n",
       "1043             0        0     0      0       0         0     0     0    0   \n",
       "5344             0        0     0      0       0         0     0     0    0   \n",
       "1872             0        0     0      0       0         0     0     0    0   \n",
       "\n",
       "      scikit-learn  numpy  docker  kibana  ai  python  hbase  scoring  pig  \\\n",
       "3154             0      0       0       0   0       1      0        0    0   \n",
       "2263             0      0       0       0   0       1      0        0    0   \n",
       "1043             0      0       0       0   0       1      0        0    0   \n",
       "5344             0      0       0       0   0       1      0        0    0   \n",
       "1872             0      0       0       0   0       1      0        0    0   \n",
       "\n",
       "      nosql  machine learning  windows  hive  mongodb  redshift  scala  aws  \\\n",
       "3154      0                 0        0     0        0         0      0    1   \n",
       "2263      0                 0        0     0        0         0      0    0   \n",
       "1043      0                 1        0     0        0         0      0    0   \n",
       "5344      0                 0        0     0        1         0      1    0   \n",
       "1872      0                 0        0     0        0         0      0    0   \n",
       "\n",
       "      cassandra  map-reduce  microsoft azure  anglais  pyspark  matlab  hdfs  \\\n",
       "3154          0           0                0        0        0       0     0   \n",
       "2263          0           0                0        0        0       0     0   \n",
       "1043          0           0                0        1        0       1     0   \n",
       "5344          0           0                0        0        0       0     0   \n",
       "1872          0           0                0        0        0       0     0   \n",
       "\n",
       "      java  spark  big data  mariadb has_diplome has_entreprise  is_senior  \n",
       "3154     0      0         0        0         yes            yes          0  \n",
       "2263     0      0         1        0         yes            yes          0  \n",
       "1043     0      0         0        0         yes            yes          1  \n",
       "5344     1      0         0        0          no             no          0  \n",
       "1872     0      0         1        0         yes            yes          0  "
      ]
     },
     "execution_count": 28,
     "metadata": {},
     "output_type": "execute_result"
    }
   ],
   "source": [
    "raw_cleaned.sample(n=5)"
   ]
  },
  {
   "cell_type": "code",
   "execution_count": 29,
   "id": "30853349",
   "metadata": {
    "ExecuteTime": {
     "end_time": "2022-06-07T12:49:48.489049Z",
     "start_time": "2022-06-07T12:49:48.364727Z"
    }
   },
   "outputs": [
    {
     "name": "stdout",
     "output_type": "stream",
     "text": [
      "['Data architecte' 'Data engineer' 'Data scientist' 'Lead data scientist']\n"
     ]
    }
   ],
   "source": [
    "# Building the first baseline\n",
    "from sklearn import preprocessing\n",
    "from sklearn.model_selection import train_test_split\n",
    "\n",
    "X = raw_cleaned.drop('Metier', axis=1)\n",
    "le = preprocessing.LabelEncoder()\n",
    "le.fit(raw_cleaned['Metier'])\n",
    "y = le.transform(raw_cleaned['Metier'])\n",
    "print(le.classes_)\n",
    "\n",
    "X_train, X_test, y_train, y_test = train_test_split(X, y, test_size=0.2, random_state=0)\n",
    "X_train, X_val, y_train, y_val = train_test_split(X_train, y_train, test_size=0.2, random_state=0)"
   ]
  },
  {
   "cell_type": "code",
   "execution_count": 30,
   "id": "6e62232b",
   "metadata": {
    "ExecuteTime": {
     "end_time": "2022-06-07T12:49:48.492053Z",
     "start_time": "2022-06-07T12:49:48.490041Z"
    }
   },
   "outputs": [],
   "source": [
    "# show confusion matrix\n",
    "from sklearn.metrics import confusion_matrix, ConfusionMatrixDisplay\n",
    "\n",
    "def display_confusion_matrix(y_val, y_pred, labels):\n",
    "    cm = confusion_matrix(y_val, y_pred)\n",
    "    disp = ConfusionMatrixDisplay(confusion_matrix=cm, display_labels=labels)\n",
    "    return disp"
   ]
  },
  {
   "cell_type": "code",
   "execution_count": 31,
   "id": "ab16737a",
   "metadata": {
    "ExecuteTime": {
     "end_time": "2022-06-07T12:49:54.827194Z",
     "start_time": "2022-06-07T12:49:48.492884Z"
    }
   },
   "outputs": [
    {
     "name": "stdout",
     "output_type": "stream",
     "text": [
      "{'classifier__max_depth': 3, 'classifier__n_estimators': 14}\n"
     ]
    }
   ],
   "source": [
    "# Random Forest Baseline\n",
    "from sklearn.pipeline import Pipeline\n",
    "from sklearn.compose import ColumnTransformer\n",
    "from sklearn.ensemble import RandomForestClassifier\n",
    "from sklearn.model_selection import GridSearchCV\n",
    "from sklearn.model_selection import RepeatedStratifiedKFold\n",
    "\n",
    "\n",
    "baseline_preprocessor = ColumnTransformer(\n",
    "    transformers=[\n",
    "        (\"diplome\", preprocessing.OrdinalEncoder(\n",
    "            categories=[['no', 'bachelor', 'master', 'phd']]\n",
    "        ), ['Diplome']),\n",
    "        (\"booleans\", preprocessing.OrdinalEncoder(\n",
    "            categories=[['no', 'yes'], ['no', 'yes']]\n",
    "        ), ['has_diplome', 'has_entreprise'])\n",
    "    ]\n",
    ")\n",
    "\n",
    "baseline_rf_pipeline = Pipeline(\n",
    "    steps=[\n",
    "        ('preprocessor', baseline_preprocessor),\n",
    "        ('classifier', RandomForestClassifier(random_state=0))\n",
    "    ]\n",
    ")\n",
    "\n",
    "parameters = {\n",
    "    'classifier__n_estimators': [10, 14, 18],\n",
    "    'classifier__max_depth': [1, 3, 8, 10]\n",
    "}\n",
    "\n",
    "cv = RepeatedStratifiedKFold(n_splits=10, n_repeats=3, random_state=0)\n",
    "grid_search = GridSearchCV(baseline_rf_pipeline, parameters, cv=cv)\n",
    "grid_search.fit(X_train, y_train)\n",
    "print(grid_search.best_params_)\n",
    "rf_baseline = grid_search.best_estimator_"
   ]
  },
  {
   "cell_type": "code",
   "execution_count": 32,
   "id": "d324789e",
   "metadata": {
    "ExecuteTime": {
     "end_time": "2022-06-07T12:49:54.838905Z",
     "start_time": "2022-06-07T12:49:54.828312Z"
    }
   },
   "outputs": [
    {
     "name": "stdout",
     "output_type": "stream",
     "text": [
      "                     precision    recall  f1-score   support\n",
      "\n",
      "    Data architecte       0.44      0.03      0.06       333\n",
      "      Data engineer       0.45      0.16      0.24       331\n",
      "     Data scientist       0.43      0.98      0.59       525\n",
      "Lead data scientist       0.00      0.00      0.00       162\n",
      "\n",
      "           accuracy                           0.43      1351\n",
      "          macro avg       0.33      0.29      0.22      1351\n",
      "       weighted avg       0.38      0.43      0.30      1351\n",
      "\n"
     ]
    }
   ],
   "source": [
    "from sklearn.metrics import classification_report\n",
    "y_pred_rf_baseline = rf_baseline.predict(X_val)\n",
    "print(classification_report(y_val, y_pred_rf_baseline, target_names=le.classes_))"
   ]
  },
  {
   "cell_type": "code",
   "execution_count": 33,
   "id": "ede52fbd",
   "metadata": {
    "ExecuteTime": {
     "end_time": "2022-06-07T12:49:57.443055Z",
     "start_time": "2022-06-07T12:49:54.839951Z"
    }
   },
   "outputs": [
    {
     "name": "stdout",
     "output_type": "stream",
     "text": [
      "{'classifier__n_neighbors': 10, 'classifier__weights': 'distance'}\n"
     ]
    }
   ],
   "source": [
    "from sklearn.neighbors import KNeighborsClassifier\n",
    "\n",
    "baseline_knn_pipeline = Pipeline(\n",
    "    steps=[\n",
    "        ('preprocessor', baseline_preprocessor),\n",
    "        ('classifier', KNeighborsClassifier())\n",
    "    ]\n",
    ")\n",
    "\n",
    "parameters = {\n",
    "    'classifier__n_neighbors': [8, 10, 12, 16],\n",
    "    'classifier__weights': ['distance', 'uniform']\n",
    "}\n",
    "\n",
    "grid_search = GridSearchCV(baseline_knn_pipeline, parameters, cv=cv)\n",
    "grid_search.fit(X_train, y_train)\n",
    "print(grid_search.best_params_)\n",
    "knn_baseline = grid_search.best_estimator_"
   ]
  },
  {
   "cell_type": "code",
   "execution_count": 34,
   "id": "6fe54045",
   "metadata": {
    "ExecuteTime": {
     "end_time": "2022-06-07T12:49:57.459001Z",
     "start_time": "2022-06-07T12:49:57.443970Z"
    }
   },
   "outputs": [
    {
     "name": "stdout",
     "output_type": "stream",
     "text": [
      "                     precision    recall  f1-score   support\n",
      "\n",
      "    Data architecte       0.37      0.07      0.12       333\n",
      "      Data engineer       0.45      0.16      0.24       331\n",
      "     Data scientist       0.43      0.96      0.60       525\n",
      "Lead data scientist       0.00      0.00      0.00       162\n",
      "\n",
      "           accuracy                           0.43      1351\n",
      "          macro avg       0.31      0.30      0.24      1351\n",
      "       weighted avg       0.37      0.43      0.32      1351\n",
      "\n"
     ]
    }
   ],
   "source": [
    "y_pred_knn_baseline = knn_baseline.predict(X_val)\n",
    "print(classification_report(y_val, y_pred_knn_baseline, target_names=le.classes_))"
   ]
  },
  {
   "cell_type": "code",
   "execution_count": 35,
   "id": "6ca58a94",
   "metadata": {
    "ExecuteTime": {
     "end_time": "2022-06-07T12:49:58.145000Z",
     "start_time": "2022-06-07T12:49:57.461158Z"
    }
   },
   "outputs": [],
   "source": [
    "# Since our dataset is unbalanced, let's try to build one classifier for each class\n",
    "from sklearn.multiclass import OneVsRestClassifier\n",
    "from sklearn.svm import SVC\n",
    "\n",
    "baseline_ovr_pipeline = Pipeline(\n",
    "    steps=[\n",
    "        ('preprocessor', baseline_preprocessor),\n",
    "        ('classifier', OneVsRestClassifier(SVC(random_state=0)))\n",
    "    ]\n",
    ")\n",
    "\n",
    "_ = baseline_ovr_pipeline.fit(X_train, y_train)"
   ]
  },
  {
   "cell_type": "code",
   "execution_count": 36,
   "id": "64026d6b",
   "metadata": {
    "ExecuteTime": {
     "end_time": "2022-06-07T12:49:58.644332Z",
     "start_time": "2022-06-07T12:49:58.146005Z"
    }
   },
   "outputs": [
    {
     "name": "stdout",
     "output_type": "stream",
     "text": [
      "                     precision    recall  f1-score   support\n",
      "\n",
      "    Data architecte       0.28      0.52      0.36       333\n",
      "      Data engineer       0.33      0.28      0.30       331\n",
      "     Data scientist       0.55      0.47      0.51       525\n",
      "Lead data scientist       0.00      0.00      0.00       162\n",
      "\n",
      "           accuracy                           0.38      1351\n",
      "          macro avg       0.29      0.32      0.29      1351\n",
      "       weighted avg       0.36      0.38      0.36      1351\n",
      "\n"
     ]
    }
   ],
   "source": [
    "y_pred_ovr_baseline = baseline_ovr_pipeline.predict(X_val)\n",
    "print(classification_report(y_val, y_pred_ovr_baseline, target_names=le.classes_))"
   ]
  },
  {
   "cell_type": "code",
   "execution_count": 37,
   "id": "794ef12a",
   "metadata": {
    "ExecuteTime": {
     "end_time": "2022-06-07T12:50:01.099439Z",
     "start_time": "2022-06-07T12:49:58.645251Z"
    }
   },
   "outputs": [
    {
     "name": "stdout",
     "output_type": "stream",
     "text": [
      "{'classifier__max_depth': 8, 'classifier__max_features': 'log2', 'classifier__splitter': 'best'}\n"
     ]
    }
   ],
   "source": [
    "from sklearn.tree import ExtraTreeClassifier\n",
    "\n",
    "baseline_etc_pipeline = Pipeline(\n",
    "    steps=[\n",
    "        ('preprocessor', baseline_preprocessor),\n",
    "        ('classifier', ExtraTreeClassifier(random_state=0))\n",
    "    ]\n",
    ")\n",
    "\n",
    "parameters = {\n",
    "    'classifier__max_features': ['log2', 'sqrt', 50],\n",
    "    'classifier__max_depth': [8, 10, 14],\n",
    "    'classifier__splitter': ['best', 'random']\n",
    "}\n",
    "\n",
    "grid_search = GridSearchCV(baseline_etc_pipeline, parameters, cv=cv)\n",
    "grid_search.fit(X_train, y_train)\n",
    "print(grid_search.best_params_)\n",
    "etc_baseline = grid_search.best_estimator_"
   ]
  },
  {
   "cell_type": "code",
   "execution_count": 38,
   "id": "d43c8f7e",
   "metadata": {
    "ExecuteTime": {
     "end_time": "2022-06-07T12:50:01.105586Z",
     "start_time": "2022-06-07T12:50:01.100287Z"
    }
   },
   "outputs": [
    {
     "name": "stdout",
     "output_type": "stream",
     "text": [
      "                     precision    recall  f1-score   support\n",
      "\n",
      "    Data architecte       0.37      0.07      0.12       333\n",
      "      Data engineer       0.45      0.16      0.24       331\n",
      "     Data scientist       0.43      0.96      0.60       525\n",
      "Lead data scientist       0.00      0.00      0.00       162\n",
      "\n",
      "           accuracy                           0.43      1351\n",
      "          macro avg       0.31      0.30      0.24      1351\n",
      "       weighted avg       0.37      0.43      0.32      1351\n",
      "\n"
     ]
    }
   ],
   "source": [
    "y_pred_etc_baseline = etc_baseline.predict(X_val)\n",
    "print(classification_report(y_val, y_pred_etc_baseline, target_names=le.classes_))"
   ]
  },
  {
   "cell_type": "markdown",
   "id": "07d56c13",
   "metadata": {},
   "source": [
    "Looking at the recall, the best performing models are random forest, extra trees, the knn and the one vs rest classifier <br>\n",
    "However no model is able to classify lead data scientists"
   ]
  },
  {
   "cell_type": "code",
   "execution_count": 39,
   "id": "ed075c7e",
   "metadata": {
    "ExecuteTime": {
     "end_time": "2022-06-07T12:50:01.465448Z",
     "start_time": "2022-06-07T12:50:01.106346Z"
    }
   },
   "outputs": [
    {
     "data": {
      "image/png": "[encoded data removed]",
      "text/plain": [
       "<Figure size 1296x576 with 1 Axes>"
      ]
     },
     "metadata": {
      "needs_background": "light"
     },
     "output_type": "display_data"
    }
   ],
   "source": [
    "# Analyze the skills by metiers\n",
    "tech_by_metier = raw_filtered[[*unique_technologies, 'Metier']].groupby(\n",
    "    ['Metier']\n",
    ").sum()\n",
    "tech_by_metier = tech_by_metier[tech_by_metier.sum().sort_values(ascending=False).index].transpose()\n",
    "tech_by_metier.plot(kind=\"bar\", stacked=True, figsize=(18, 8))\n",
    "plt.title('Technology by Metier')\n",
    "plt.show()"
   ]
  },
  {
   "cell_type": "code",
   "execution_count": 46,
   "id": "4929d0d3",
   "metadata": {
    "ExecuteTime": {
     "end_time": "2022-06-07T12:54:26.783934Z",
     "start_time": "2022-06-07T12:54:26.762738Z"
    }
   },
   "outputs": [],
   "source": [
    "# Let's select technologies that are very specific to some classes and check the performance\n",
    "class_selective_features = [\n",
    "    'ruby', 'windows', 'oracle', 'mysql', 'hadoop(hdfs)', 'nosq', 'redshift', 'pig', 'map-reduce', 'hbase',\n",
    "    'yarn', 'postgresql', 'kafka', 'tableau', 'vertica', 'mariadb', 'hdfs', 'numpy', 'deep learning', 'ai', 'scoring',\n",
    "    'matplotlib', 'pycharm', 'scikit-learn', 'tensorflow', 'teradata', 'anglais', 'big data', 'r', 'machine learning', \n",
    "    'microsoft azure', 'spss', 'excel', 'sas', 'vba', 'matlab', 'aws', 'gnu', 'linux', 'Experience'\n",
    "]\n",
    "\n",
    "X_first_selection_train = X_train[class_selective_features]\n",
    "X_first_selection_val = X_val[class_selective_features]"
   ]
  },
  {
   "cell_type": "code",
   "execution_count": 47,
   "id": "39eb1151",
   "metadata": {
    "ExecuteTime": {
     "end_time": "2022-06-07T12:55:27.353053Z",
     "start_time": "2022-06-07T12:54:30.079793Z"
    }
   },
   "outputs": [
    {
     "name": "stdout",
     "output_type": "stream",
     "text": [
      "{'classifier__class_weight': {0: 1, 1: 1, 2: 1, 3: 3}, 'classifier__max_depth': 12, 'classifier__n_estimators': 52}\n"
     ]
    }
   ],
   "source": [
    "first_selection_rf_pipeline = Pipeline(\n",
    "    steps=[\n",
    "        ('classifier', RandomForestClassifier(random_state=0))\n",
    "    ]\n",
    ")\n",
    "\n",
    "parameters = {\n",
    "    'classifier__n_estimators': [40, 44, 48, 52, 56],\n",
    "    'classifier__max_depth': [10, 12, 16, 22, 26],\n",
    "    'classifier__class_weight': [{0:1, 1:1, 2:1, 3:3}]\n",
    "}\n",
    "\n",
    "grid_search = GridSearchCV(first_selection_rf_pipeline, parameters, cv=cv)\n",
    "grid_search.fit(X_first_selection_train, y_train)\n",
    "print(grid_search.best_params_)\n",
    "rf_first_selection = grid_search.best_estimator_"
   ]
  },
  {
   "cell_type": "code",
   "execution_count": 48,
   "id": "fde36959",
   "metadata": {
    "ExecuteTime": {
     "end_time": "2022-06-07T12:55:38.371979Z",
     "start_time": "2022-06-07T12:55:38.343825Z"
    }
   },
   "outputs": [
    {
     "name": "stdout",
     "output_type": "stream",
     "text": [
      "                     precision    recall  f1-score   support\n",
      "\n",
      "    Data architecte       0.73      0.96      0.83       333\n",
      "      Data engineer       0.95      0.72      0.82       331\n",
      "     Data scientist       0.89      0.70      0.78       525\n",
      "Lead data scientist       0.45      0.70      0.55       162\n",
      "\n",
      "           accuracy                           0.77      1351\n",
      "          macro avg       0.76      0.77      0.75      1351\n",
      "       weighted avg       0.81      0.77      0.78      1351\n",
      "\n"
     ]
    }
   ],
   "source": [
    "y_pred_rf_first_selection = rf_first_selection.predict(X_first_selection_val)\n",
    "print(classification_report(y_val, y_pred_rf_first_selection, target_names=le.classes_))"
   ]
  },
  {
   "cell_type": "code",
   "execution_count": 49,
   "id": "64f93aee",
   "metadata": {
    "ExecuteTime": {
     "end_time": "2022-06-07T12:56:05.028648Z",
     "start_time": "2022-06-07T12:55:49.595213Z"
    }
   },
   "outputs": [
    {
     "name": "stdout",
     "output_type": "stream",
     "text": [
      "{'classifier__n_neighbors': 32, 'classifier__weights': 'distance'}\n"
     ]
    }
   ],
   "source": [
    "first_selection_knn_pipeline = Pipeline(\n",
    "    steps=[\n",
    "        ('classifier', KNeighborsClassifier())\n",
    "    ]\n",
    ")\n",
    "\n",
    "parameters = {\n",
    "    'classifier__n_neighbors': [16, 28, 32, 36, 38],\n",
    "    'classifier__weights': ['distance', 'uniform']\n",
    "}\n",
    "\n",
    "grid_search = GridSearchCV(first_selection_knn_pipeline, parameters, cv=cv)\n",
    "grid_search.fit(X_first_selection_train, y_train)\n",
    "print(grid_search.best_params_)\n",
    "knn_first_selection = grid_search.best_estimator_"
   ]
  },
  {
   "cell_type": "code",
   "execution_count": 50,
   "id": "2316cde1",
   "metadata": {
    "ExecuteTime": {
     "end_time": "2022-06-07T12:56:08.072215Z",
     "start_time": "2022-06-07T12:56:07.863472Z"
    }
   },
   "outputs": [
    {
     "name": "stdout",
     "output_type": "stream",
     "text": [
      "                     precision    recall  f1-score   support\n",
      "\n",
      "    Data architecte       0.77      0.88      0.82       333\n",
      "      Data engineer       0.85      0.79      0.82       331\n",
      "     Data scientist       0.83      0.84      0.83       525\n",
      "Lead data scientist       0.51      0.40      0.45       162\n",
      "\n",
      "           accuracy                           0.79      1351\n",
      "          macro avg       0.74      0.73      0.73      1351\n",
      "       weighted avg       0.78      0.79      0.78      1351\n",
      "\n"
     ]
    }
   ],
   "source": [
    "y_pred_knn_first_selection = knn_first_selection.predict(X_first_selection_val)\n",
    "print(classification_report(y_val, y_pred_knn_first_selection, target_names=le.classes_))"
   ]
  },
  {
   "cell_type": "code",
   "execution_count": 51,
   "id": "bcd321b9",
   "metadata": {
    "ExecuteTime": {
     "end_time": "2022-06-07T12:56:21.331467Z",
     "start_time": "2022-06-07T12:56:20.388872Z"
    }
   },
   "outputs": [],
   "source": [
    "first_selection_ovr_pipeline = Pipeline(\n",
    "    steps=[\n",
    "        ('classifier', OneVsRestClassifier(SVC(random_state=0)))\n",
    "    ]\n",
    ")\n",
    "\n",
    "_ = first_selection_ovr_pipeline.fit(X_first_selection_train, y_train)"
   ]
  },
  {
   "cell_type": "code",
   "execution_count": 52,
   "id": "46852805",
   "metadata": {
    "ExecuteTime": {
     "end_time": "2022-06-07T12:56:24.507401Z",
     "start_time": "2022-06-07T12:56:23.898817Z"
    }
   },
   "outputs": [
    {
     "name": "stdout",
     "output_type": "stream",
     "text": [
      "                     precision    recall  f1-score   support\n",
      "\n",
      "    Data architecte       0.74      0.95      0.83       333\n",
      "      Data engineer       0.94      0.73      0.82       331\n",
      "     Data scientist       0.79      0.90      0.85       525\n",
      "Lead data scientist       0.52      0.21      0.30       162\n",
      "\n",
      "           accuracy                           0.79      1351\n",
      "          macro avg       0.75      0.70      0.70      1351\n",
      "       weighted avg       0.78      0.79      0.77      1351\n",
      "\n"
     ]
    }
   ],
   "source": [
    "y_pred_ovr_first_selection = first_selection_ovr_pipeline.predict(X_first_selection_val)\n",
    "print(classification_report(y_val, y_pred_ovr_first_selection, target_names=le.classes_))"
   ]
  },
  {
   "cell_type": "code",
   "execution_count": 53,
   "id": "95f29e1f",
   "metadata": {
    "ExecuteTime": {
     "end_time": "2022-06-07T12:56:55.737328Z",
     "start_time": "2022-06-07T12:56:54.037881Z"
    }
   },
   "outputs": [
    {
     "name": "stdout",
     "output_type": "stream",
     "text": [
      "{'classifier__class_weight': {0: 1, 1: 1, 2: 1, 3: 3}, 'classifier__max_depth': 18, 'classifier__max_features': 'log2', 'classifier__splitter': 'random'}\n"
     ]
    }
   ],
   "source": [
    "first_selection_etc_pipeline = Pipeline(\n",
    "    steps=[\n",
    "        ('classifier', ExtraTreeClassifier(random_state=0))\n",
    "    ]\n",
    ")\n",
    "\n",
    "parameters = {\n",
    "    'classifier__max_features': ['log2', 'sqrt'],\n",
    "    'classifier__max_depth': [10, 14, 18, 24],\n",
    "    'classifier__splitter': ['best', 'random'],\n",
    "    'classifier__class_weight': [{0:1, 1:1, 2:1, 3:3}]\n",
    "}\n",
    "\n",
    "grid_search = GridSearchCV(first_selection_etc_pipeline, parameters, cv=cv)\n",
    "grid_search.fit(X_first_selection_train, y_train)\n",
    "print(grid_search.best_params_)\n",
    "etc_first_selection = grid_search.best_estimator_"
   ]
  },
  {
   "cell_type": "code",
   "execution_count": 54,
   "id": "65a120e9",
   "metadata": {
    "ExecuteTime": {
     "end_time": "2022-06-07T12:57:00.584465Z",
     "start_time": "2022-06-07T12:57:00.568084Z"
    }
   },
   "outputs": [
    {
     "name": "stdout",
     "output_type": "stream",
     "text": [
      "                     precision    recall  f1-score   support\n",
      "\n",
      "    Data architecte       0.74      0.96      0.84       333\n",
      "      Data engineer       0.95      0.73      0.83       331\n",
      "     Data scientist       0.89      0.73      0.80       525\n",
      "Lead data scientist       0.47      0.69      0.56       162\n",
      "\n",
      "           accuracy                           0.78      1351\n",
      "          macro avg       0.76      0.78      0.76      1351\n",
      "       weighted avg       0.82      0.78      0.79      1351\n",
      "\n"
     ]
    }
   ],
   "source": [
    "y_pred_etc_first_selection = etc_first_selection.predict(X_first_selection_val)\n",
    "print(classification_report(y_val, y_pred_etc_first_selection, target_names=le.classes_))"
   ]
  },
  {
   "cell_type": "markdown",
   "id": "63d7514a",
   "metadata": {},
   "source": [
    "We were able to increase the recall of all the classes of our models. <br>\n",
    "Random Forest gives a more balanced recall"
   ]
  },
  {
   "cell_type": "code",
   "execution_count": 55,
   "id": "fa31f089",
   "metadata": {
    "ExecuteTime": {
     "end_time": "2022-06-07T12:57:21.948013Z",
     "start_time": "2022-06-07T12:57:21.808634Z"
    }
   },
   "outputs": [
    {
     "data": {
      "text/html": [
       "<div>\n",
       "<style scoped>\n",
       "    .dataframe tbody tr th:only-of-type {\n",
       "        vertical-align: middle;\n",
       "    }\n",
       "\n",
       "    .dataframe tbody tr th {\n",
       "        vertical-align: top;\n",
       "    }\n",
       "\n",
       "    .dataframe thead th {\n",
       "        text-align: right;\n",
       "    }\n",
       "</style>\n",
       "<table border=\"1\" class=\"dataframe\">\n",
       "  <thead>\n",
       "    <tr style=\"text-align: right;\">\n",
       "      <th></th>\n",
       "      <th>ruby</th>\n",
       "      <th>windows</th>\n",
       "      <th>oracle</th>\n",
       "      <th>mysql</th>\n",
       "      <th>hadoop(hdfs)</th>\n",
       "      <th>nosq</th>\n",
       "      <th>redshift</th>\n",
       "      <th>pig</th>\n",
       "      <th>map-reduce</th>\n",
       "      <th>hbase</th>\n",
       "      <th>yarn</th>\n",
       "      <th>postgresql</th>\n",
       "      <th>kafka</th>\n",
       "      <th>tableau</th>\n",
       "      <th>vertica</th>\n",
       "      <th>mariadb</th>\n",
       "      <th>hdfs</th>\n",
       "      <th>numpy</th>\n",
       "      <th>deep learning</th>\n",
       "      <th>ai</th>\n",
       "      <th>scoring</th>\n",
       "      <th>matplotlib</th>\n",
       "      <th>pycharm</th>\n",
       "      <th>scikit-learn</th>\n",
       "      <th>tensorflow</th>\n",
       "      <th>teradata</th>\n",
       "      <th>anglais</th>\n",
       "      <th>big data</th>\n",
       "      <th>r</th>\n",
       "      <th>machine learning</th>\n",
       "      <th>microsoft azure</th>\n",
       "      <th>spss</th>\n",
       "      <th>excel</th>\n",
       "      <th>sas</th>\n",
       "      <th>vba</th>\n",
       "      <th>matlab</th>\n",
       "      <th>aws</th>\n",
       "      <th>gnu</th>\n",
       "      <th>linux</th>\n",
       "      <th>Experience</th>\n",
       "      <th>Metier</th>\n",
       "    </tr>\n",
       "  </thead>\n",
       "  <tbody>\n",
       "    <tr>\n",
       "      <th>8902</th>\n",
       "      <td>0</td>\n",
       "      <td>0</td>\n",
       "      <td>0</td>\n",
       "      <td>0</td>\n",
       "      <td>0</td>\n",
       "      <td>0</td>\n",
       "      <td>0</td>\n",
       "      <td>0</td>\n",
       "      <td>0</td>\n",
       "      <td>0</td>\n",
       "      <td>0</td>\n",
       "      <td>0</td>\n",
       "      <td>0</td>\n",
       "      <td>0</td>\n",
       "      <td>0</td>\n",
       "      <td>0</td>\n",
       "      <td>0</td>\n",
       "      <td>0</td>\n",
       "      <td>0</td>\n",
       "      <td>0</td>\n",
       "      <td>0</td>\n",
       "      <td>0</td>\n",
       "      <td>0</td>\n",
       "      <td>0</td>\n",
       "      <td>0</td>\n",
       "      <td>0</td>\n",
       "      <td>0</td>\n",
       "      <td>0</td>\n",
       "      <td>0</td>\n",
       "      <td>0</td>\n",
       "      <td>0</td>\n",
       "      <td>0</td>\n",
       "      <td>0</td>\n",
       "      <td>0</td>\n",
       "      <td>0</td>\n",
       "      <td>0</td>\n",
       "      <td>0</td>\n",
       "      <td>0</td>\n",
       "      <td>0</td>\n",
       "      <td>3.5</td>\n",
       "      <td>1</td>\n",
       "    </tr>\n",
       "    <tr>\n",
       "      <th>3321</th>\n",
       "      <td>0</td>\n",
       "      <td>0</td>\n",
       "      <td>0</td>\n",
       "      <td>0</td>\n",
       "      <td>0</td>\n",
       "      <td>0</td>\n",
       "      <td>0</td>\n",
       "      <td>0</td>\n",
       "      <td>0</td>\n",
       "      <td>0</td>\n",
       "      <td>0</td>\n",
       "      <td>0</td>\n",
       "      <td>0</td>\n",
       "      <td>0</td>\n",
       "      <td>0</td>\n",
       "      <td>0</td>\n",
       "      <td>0</td>\n",
       "      <td>0</td>\n",
       "      <td>0</td>\n",
       "      <td>0</td>\n",
       "      <td>0</td>\n",
       "      <td>0</td>\n",
       "      <td>0</td>\n",
       "      <td>0</td>\n",
       "      <td>0</td>\n",
       "      <td>0</td>\n",
       "      <td>0</td>\n",
       "      <td>0</td>\n",
       "      <td>0</td>\n",
       "      <td>0</td>\n",
       "      <td>0</td>\n",
       "      <td>0</td>\n",
       "      <td>0</td>\n",
       "      <td>0</td>\n",
       "      <td>0</td>\n",
       "      <td>0</td>\n",
       "      <td>1</td>\n",
       "      <td>0</td>\n",
       "      <td>0</td>\n",
       "      <td>2.0</td>\n",
       "      <td>1</td>\n",
       "    </tr>\n",
       "    <tr>\n",
       "      <th>5440</th>\n",
       "      <td>0</td>\n",
       "      <td>0</td>\n",
       "      <td>0</td>\n",
       "      <td>0</td>\n",
       "      <td>0</td>\n",
       "      <td>0</td>\n",
       "      <td>0</td>\n",
       "      <td>0</td>\n",
       "      <td>0</td>\n",
       "      <td>0</td>\n",
       "      <td>0</td>\n",
       "      <td>0</td>\n",
       "      <td>0</td>\n",
       "      <td>0</td>\n",
       "      <td>0</td>\n",
       "      <td>0</td>\n",
       "      <td>0</td>\n",
       "      <td>0</td>\n",
       "      <td>0</td>\n",
       "      <td>0</td>\n",
       "      <td>0</td>\n",
       "      <td>0</td>\n",
       "      <td>0</td>\n",
       "      <td>0</td>\n",
       "      <td>0</td>\n",
       "      <td>0</td>\n",
       "      <td>0</td>\n",
       "      <td>0</td>\n",
       "      <td>0</td>\n",
       "      <td>0</td>\n",
       "      <td>0</td>\n",
       "      <td>0</td>\n",
       "      <td>0</td>\n",
       "      <td>0</td>\n",
       "      <td>0</td>\n",
       "      <td>0</td>\n",
       "      <td>0</td>\n",
       "      <td>0</td>\n",
       "      <td>0</td>\n",
       "      <td>8.0</td>\n",
       "      <td>0</td>\n",
       "    </tr>\n",
       "    <tr>\n",
       "      <th>5693</th>\n",
       "      <td>0</td>\n",
       "      <td>0</td>\n",
       "      <td>0</td>\n",
       "      <td>0</td>\n",
       "      <td>0</td>\n",
       "      <td>0</td>\n",
       "      <td>0</td>\n",
       "      <td>0</td>\n",
       "      <td>0</td>\n",
       "      <td>0</td>\n",
       "      <td>0</td>\n",
       "      <td>0</td>\n",
       "      <td>0</td>\n",
       "      <td>0</td>\n",
       "      <td>0</td>\n",
       "      <td>0</td>\n",
       "      <td>0</td>\n",
       "      <td>0</td>\n",
       "      <td>0</td>\n",
       "      <td>0</td>\n",
       "      <td>0</td>\n",
       "      <td>0</td>\n",
       "      <td>0</td>\n",
       "      <td>0</td>\n",
       "      <td>0</td>\n",
       "      <td>0</td>\n",
       "      <td>0</td>\n",
       "      <td>0</td>\n",
       "      <td>0</td>\n",
       "      <td>0</td>\n",
       "      <td>0</td>\n",
       "      <td>0</td>\n",
       "      <td>0</td>\n",
       "      <td>0</td>\n",
       "      <td>0</td>\n",
       "      <td>0</td>\n",
       "      <td>0</td>\n",
       "      <td>0</td>\n",
       "      <td>1</td>\n",
       "      <td>6.0</td>\n",
       "      <td>1</td>\n",
       "    </tr>\n",
       "    <tr>\n",
       "      <th>918</th>\n",
       "      <td>0</td>\n",
       "      <td>0</td>\n",
       "      <td>0</td>\n",
       "      <td>0</td>\n",
       "      <td>0</td>\n",
       "      <td>0</td>\n",
       "      <td>0</td>\n",
       "      <td>0</td>\n",
       "      <td>0</td>\n",
       "      <td>0</td>\n",
       "      <td>0</td>\n",
       "      <td>0</td>\n",
       "      <td>0</td>\n",
       "      <td>1</td>\n",
       "      <td>1</td>\n",
       "      <td>0</td>\n",
       "      <td>0</td>\n",
       "      <td>0</td>\n",
       "      <td>0</td>\n",
       "      <td>0</td>\n",
       "      <td>0</td>\n",
       "      <td>0</td>\n",
       "      <td>0</td>\n",
       "      <td>0</td>\n",
       "      <td>0</td>\n",
       "      <td>0</td>\n",
       "      <td>0</td>\n",
       "      <td>0</td>\n",
       "      <td>0</td>\n",
       "      <td>0</td>\n",
       "      <td>0</td>\n",
       "      <td>0</td>\n",
       "      <td>0</td>\n",
       "      <td>0</td>\n",
       "      <td>0</td>\n",
       "      <td>0</td>\n",
       "      <td>0</td>\n",
       "      <td>0</td>\n",
       "      <td>0</td>\n",
       "      <td>1.5</td>\n",
       "      <td>0</td>\n",
       "    </tr>\n",
       "  </tbody>\n",
       "</table>\n",
       "</div>"
      ],
      "text/plain": [
       "      ruby  windows  oracle  mysql  hadoop(hdfs)  nosq  redshift  pig  \\\n",
       "8902     0        0       0      0             0     0         0    0   \n",
       "3321     0        0       0      0             0     0         0    0   \n",
       "5440     0        0       0      0             0     0         0    0   \n",
       "5693     0        0       0      0             0     0         0    0   \n",
       "918      0        0       0      0             0     0         0    0   \n",
       "\n",
       "      map-reduce  hbase  yarn  postgresql  kafka  tableau  vertica  mariadb  \\\n",
       "8902           0      0     0           0      0        0        0        0   \n",
       "3321           0      0     0           0      0        0        0        0   \n",
       "5440           0      0     0           0      0        0        0        0   \n",
       "5693           0      0     0           0      0        0        0        0   \n",
       "918            0      0     0           0      0        1        1        0   \n",
       "\n",
       "      hdfs  numpy  deep learning  ai  scoring  matplotlib  pycharm  \\\n",
       "8902     0      0              0   0        0           0        0   \n",
       "3321     0      0              0   0        0           0        0   \n",
       "5440     0      0              0   0        0           0        0   \n",
       "5693     0      0              0   0        0           0        0   \n",
       "918      0      0              0   0        0           0        0   \n",
       "\n",
       "      scikit-learn  tensorflow  teradata  anglais  big data  r  \\\n",
       "8902             0           0         0        0         0  0   \n",
       "3321             0           0         0        0         0  0   \n",
       "5440             0           0         0        0         0  0   \n",
       "5693             0           0         0        0         0  0   \n",
       "918              0           0         0        0         0  0   \n",
       "\n",
       "      machine learning  microsoft azure  spss  excel  sas  vba  matlab  aws  \\\n",
       "8902                 0                0     0      0    0    0       0    0   \n",
       "3321                 0                0     0      0    0    0       0    1   \n",
       "5440                 0                0     0      0    0    0       0    0   \n",
       "5693                 0                0     0      0    0    0       0    0   \n",
       "918                  0                0     0      0    0    0       0    0   \n",
       "\n",
       "      gnu  linux  Experience  Metier  \n",
       "8902    0      0         3.5       1  \n",
       "3321    0      0         2.0       1  \n",
       "5440    0      0         8.0       0  \n",
       "5693    0      1         6.0       1  \n",
       "918     0      0         1.5       0  "
      ]
     },
     "execution_count": 55,
     "metadata": {},
     "output_type": "execute_result"
    }
   ],
   "source": [
    "# Try oversampling first selection\n",
    "from sklearn.utils import resample\n",
    "\n",
    "training_set = pd.DataFrame(X_first_selection_train, columns=X_first_selection_train.columns)\n",
    "training_set['Metier'] = y_train\n",
    "data_architectes = training_set[training_set['Metier'] == 0]\n",
    "data_engineers = training_set[training_set['Metier'] == 1]\n",
    "data_scientists = training_set[training_set['Metier'] == 2]\n",
    "lead_data_scientists = training_set[training_set['Metier'] == 3]\n",
    "\n",
    "oversample_lead_data_scientists = resample(\n",
    "    lead_data_scientists, \n",
    "    replace=True,\n",
    "    stratify=lead_data_scientists,\n",
    "    n_samples=len(data_scientists),\n",
    "    random_state=0\n",
    ")\n",
    "\n",
    "oversample_data_engineers = resample(\n",
    "    data_engineers,\n",
    "    replace=True,\n",
    "    stratify=data_engineers,\n",
    "    n_samples=len(data_scientists),\n",
    "    random_state=0\n",
    ")\n",
    "\n",
    "oversample_data_architectures = resample(\n",
    "    data_architectes,\n",
    "    replace=True,\n",
    "    stratify=data_architectes,\n",
    "    n_samples=len(data_scientists),\n",
    "    random_state=0\n",
    ")\n",
    "\n",
    "oversample_train = pd.concat([\n",
    "    oversample_data_engineers, oversample_data_architectures,\n",
    "    data_scientists, oversample_lead_data_scientists\n",
    "])\n",
    "\n",
    "oversample_train.sample(n=5)"
   ]
  },
  {
   "cell_type": "code",
   "execution_count": 56,
   "id": "95322b59",
   "metadata": {
    "ExecuteTime": {
     "end_time": "2022-06-07T12:57:25.440849Z",
     "start_time": "2022-06-07T12:57:25.433229Z"
    }
   },
   "outputs": [],
   "source": [
    "X_oversample_train = oversample_train.drop('Metier', axis=1)\n",
    "y_oversample_train = oversample_train['Metier']"
   ]
  },
  {
   "cell_type": "code",
   "execution_count": 57,
   "id": "fe7e8e84",
   "metadata": {
    "ExecuteTime": {
     "end_time": "2022-06-07T12:57:44.933335Z",
     "start_time": "2022-06-07T12:57:31.522066Z"
    }
   },
   "outputs": [
    {
     "name": "stdout",
     "output_type": "stream",
     "text": [
      "{'classifier__max_depth': 8, 'classifier__n_estimators': 20}\n"
     ]
    }
   ],
   "source": [
    "oversample_rf_pipeline = Pipeline(\n",
    "    steps=[\n",
    "        ('classifier', RandomForestClassifier(random_state=0))\n",
    "    ]\n",
    ")\n",
    "\n",
    "parameters = {\n",
    "    'classifier__n_estimators': [14, 20, 26, 28],\n",
    "    'classifier__max_depth': [5, 8, 12]\n",
    "}\n",
    "\n",
    "grid_search = GridSearchCV(oversample_rf_pipeline, parameters, cv=cv)\n",
    "grid_search.fit(X_oversample_train, y_oversample_train)\n",
    "print(grid_search.best_params_)\n",
    "rf_oversample = grid_search.best_estimator_"
   ]
  },
  {
   "cell_type": "code",
   "execution_count": 58,
   "id": "edc924a3",
   "metadata": {
    "ExecuteTime": {
     "end_time": "2022-06-07T12:57:49.591047Z",
     "start_time": "2022-06-07T12:57:49.565452Z"
    }
   },
   "outputs": [
    {
     "name": "stdout",
     "output_type": "stream",
     "text": [
      "                     precision    recall  f1-score   support\n",
      "\n",
      "    Data architecte       0.73      0.97      0.84       333\n",
      "      Data engineer       0.96      0.72      0.82       331\n",
      "     Data scientist       0.91      0.65      0.76       525\n",
      "Lead data scientist       0.43      0.78      0.55       162\n",
      "\n",
      "           accuracy                           0.76      1351\n",
      "          macro avg       0.76      0.78      0.74      1351\n",
      "       weighted avg       0.82      0.76      0.77      1351\n",
      "\n"
     ]
    }
   ],
   "source": [
    "y_pred_rf_oversample = rf_oversample.predict(X_first_selection_val)\n",
    "print(classification_report(y_val, y_pred_rf_oversample, target_names=le.classes_))"
   ]
  },
  {
   "cell_type": "code",
   "execution_count": 59,
   "id": "e2d7959f",
   "metadata": {
    "ExecuteTime": {
     "end_time": "2022-06-07T12:58:29.835338Z",
     "start_time": "2022-06-07T12:57:53.999896Z"
    }
   },
   "outputs": [
    {
     "name": "stdout",
     "output_type": "stream",
     "text": [
      "{'classifier__n_neighbors': 300, 'classifier__weights': 'distance'}\n"
     ]
    }
   ],
   "source": [
    "oversample_knn_pipeline = Pipeline(\n",
    "    steps=[\n",
    "        ('classifier', KNeighborsClassifier())\n",
    "    ]\n",
    ")\n",
    "\n",
    "parameters = {\n",
    "    'classifier__n_neighbors': [240, 280, 300, 340],\n",
    "    'classifier__weights': ['distance', 'uniform']\n",
    "}\n",
    "\n",
    "grid_search = GridSearchCV(oversample_knn_pipeline, parameters, cv=cv)\n",
    "grid_search.fit(X_oversample_train, y_oversample_train)\n",
    "print(grid_search.best_params_)\n",
    "knn_oversample = grid_search.best_estimator_"
   ]
  },
  {
   "cell_type": "code",
   "execution_count": 60,
   "id": "e746a3ba",
   "metadata": {
    "ExecuteTime": {
     "end_time": "2022-06-07T12:58:49.462942Z",
     "start_time": "2022-06-07T12:58:49.085738Z"
    }
   },
   "outputs": [
    {
     "name": "stdout",
     "output_type": "stream",
     "text": [
      "                     precision    recall  f1-score   support\n",
      "\n",
      "    Data architecte       0.73      0.95      0.83       333\n",
      "      Data engineer       0.94      0.72      0.81       331\n",
      "     Data scientist       0.90      0.70      0.79       525\n",
      "Lead data scientist       0.46      0.71      0.56       162\n",
      "\n",
      "           accuracy                           0.77      1351\n",
      "          macro avg       0.76      0.77      0.75      1351\n",
      "       weighted avg       0.81      0.77      0.78      1351\n",
      "\n"
     ]
    }
   ],
   "source": [
    "y_pred_knn_oversample = knn_oversample.predict(X_first_selection_val)\n",
    "print(classification_report(y_val, y_pred_knn_oversample, target_names=le.classes_))"
   ]
  },
  {
   "cell_type": "code",
   "execution_count": 61,
   "id": "5fb6ba88",
   "metadata": {
    "ExecuteTime": {
     "end_time": "2022-06-07T12:59:18.976424Z",
     "start_time": "2022-06-07T12:59:16.523303Z"
    }
   },
   "outputs": [],
   "source": [
    "oversample_ovr_pipeline = Pipeline(\n",
    "    steps=[\n",
    "        ('classifier', OneVsRestClassifier(SVC(random_state=0)))\n",
    "    ]\n",
    ")\n",
    "\n",
    "_ = oversample_ovr_pipeline.fit(X_oversample_train, y_oversample_train)"
   ]
  },
  {
   "cell_type": "code",
   "execution_count": 62,
   "id": "29c881b2",
   "metadata": {
    "ExecuteTime": {
     "end_time": "2022-06-07T12:59:20.120596Z",
     "start_time": "2022-06-07T12:59:18.978183Z"
    }
   },
   "outputs": [
    {
     "name": "stdout",
     "output_type": "stream",
     "text": [
      "                     precision    recall  f1-score   support\n",
      "\n",
      "    Data architecte       0.74      0.97      0.84       333\n",
      "      Data engineer       0.96      0.72      0.82       331\n",
      "     Data scientist       0.91      0.66      0.76       525\n",
      "Lead data scientist       0.43      0.76      0.55       162\n",
      "\n",
      "           accuracy                           0.76      1351\n",
      "          macro avg       0.76      0.78      0.74      1351\n",
      "       weighted avg       0.82      0.76      0.77      1351\n",
      "\n"
     ]
    }
   ],
   "source": [
    "y_pred_ovr_oversample = oversample_ovr_pipeline.predict(X_first_selection_val)\n",
    "print(classification_report(y_val, y_pred_ovr_oversample, target_names=le.classes_))"
   ]
  },
  {
   "cell_type": "code",
   "execution_count": 63,
   "id": "70cfe7c7",
   "metadata": {
    "ExecuteTime": {
     "end_time": "2022-06-07T12:59:32.155855Z",
     "start_time": "2022-06-07T12:59:30.076846Z"
    }
   },
   "outputs": [
    {
     "name": "stdout",
     "output_type": "stream",
     "text": [
      "{'classifier__max_depth': 18, 'classifier__max_features': 'log2', 'classifier__splitter': 'random'}\n"
     ]
    }
   ],
   "source": [
    "oversample_etc_pipeline = Pipeline(\n",
    "    steps=[\n",
    "        ('classifier', ExtraTreeClassifier(random_state=0))\n",
    "    ]\n",
    ")\n",
    "\n",
    "parameters = {\n",
    "    'classifier__max_features': ['log2', 'sqrt'],\n",
    "    'classifier__max_depth': [10, 14, 18, 24],\n",
    "    'classifier__splitter': ['best', 'random']\n",
    "}\n",
    "\n",
    "grid_search = GridSearchCV(oversample_etc_pipeline, parameters, cv=cv)\n",
    "grid_search.fit(X_oversample_train, y_oversample_train)\n",
    "print(grid_search.best_params_)\n",
    "etc_oversample = grid_search.best_estimator_"
   ]
  },
  {
   "cell_type": "code",
   "execution_count": 64,
   "id": "bd334295",
   "metadata": {
    "ExecuteTime": {
     "end_time": "2022-06-07T12:59:32.161592Z",
     "start_time": "2022-06-07T12:59:32.156981Z"
    }
   },
   "outputs": [
    {
     "name": "stdout",
     "output_type": "stream",
     "text": [
      "                     precision    recall  f1-score   support\n",
      "\n",
      "    Data architecte       0.74      0.96      0.84       333\n",
      "      Data engineer       0.95      0.73      0.83       331\n",
      "     Data scientist       0.89      0.71      0.79       525\n",
      "Lead data scientist       0.47      0.70      0.56       162\n",
      "\n",
      "           accuracy                           0.78      1351\n",
      "          macro avg       0.76      0.78      0.76      1351\n",
      "       weighted avg       0.82      0.78      0.79      1351\n",
      "\n"
     ]
    }
   ],
   "source": [
    "y_pred_etc_first_selection = etc_oversample.predict(X_first_selection_val)\n",
    "print(classification_report(y_val, y_pred_etc_first_selection, target_names=le.classes_))"
   ]
  },
  {
   "cell_type": "markdown",
   "id": "a24318aa",
   "metadata": {},
   "source": [
    "We got better results for the knn model, ovr model and the extra trees models <br>\n",
    "We can improve the score but I will believe it is good enough for the time given"
   ]
  },
  {
   "cell_type": "code",
   "execution_count": 65,
   "id": "694073b0",
   "metadata": {
    "ExecuteTime": {
     "end_time": "2022-06-07T12:59:52.548515Z",
     "start_time": "2022-06-07T12:59:52.528553Z"
    }
   },
   "outputs": [],
   "source": [
    "# Final text of best models on unseen data\n",
    "X_first_selection_test = X_test[class_selective_features]"
   ]
  },
  {
   "cell_type": "code",
   "execution_count": 66,
   "id": "d3d1e2e4",
   "metadata": {
    "ExecuteTime": {
     "end_time": "2022-06-07T12:59:54.577165Z",
     "start_time": "2022-06-07T12:59:54.537839Z"
    }
   },
   "outputs": [
    {
     "name": "stdout",
     "output_type": "stream",
     "text": [
      "                     precision    recall  f1-score   support\n",
      "\n",
      "    Data architecte       0.69      0.97      0.81       354\n",
      "      Data engineer       0.97      0.67      0.79       421\n",
      "     Data scientist       0.89      0.73      0.80       696\n",
      "Lead data scientist       0.47      0.70      0.56       218\n",
      "\n",
      "           accuracy                           0.76      1689\n",
      "          macro avg       0.75      0.77      0.74      1689\n",
      "       weighted avg       0.81      0.76      0.77      1689\n",
      "\n"
     ]
    }
   ],
   "source": [
    "y_final_pred_rf_first_selection = rf_first_selection.predict(X_first_selection_test)\n",
    "print(classification_report(y_test, y_final_pred_rf_first_selection, target_names=le.classes_))"
   ]
  },
  {
   "cell_type": "code",
   "execution_count": 67,
   "id": "2adc0928",
   "metadata": {
    "ExecuteTime": {
     "end_time": "2022-06-07T13:00:07.540844Z",
     "start_time": "2022-06-07T13:00:07.136256Z"
    }
   },
   "outputs": [
    {
     "name": "stdout",
     "output_type": "stream",
     "text": [
      "                     precision    recall  f1-score   support\n",
      "\n",
      "    Data architecte       0.69      0.96      0.80       354\n",
      "      Data engineer       0.94      0.67      0.79       421\n",
      "     Data scientist       0.88      0.72      0.80       696\n",
      "Lead data scientist       0.46      0.68      0.55       218\n",
      "\n",
      "           accuracy                           0.75      1689\n",
      "          macro avg       0.74      0.76      0.73      1689\n",
      "       weighted avg       0.80      0.75      0.76      1689\n",
      "\n"
     ]
    }
   ],
   "source": [
    "y_final_pred_knn_oversample = knn_oversample.predict(X_first_selection_test)\n",
    "print(classification_report(y_test, y_final_pred_knn_oversample, target_names=le.classes_))"
   ]
  },
  {
   "cell_type": "code",
   "execution_count": 68,
   "id": "2bb19968",
   "metadata": {
    "ExecuteTime": {
     "end_time": "2022-06-07T13:01:41.624730Z",
     "start_time": "2022-06-07T13:01:40.407734Z"
    }
   },
   "outputs": [
    {
     "name": "stdout",
     "output_type": "stream",
     "text": [
      "                     precision    recall  f1-score   support\n",
      "\n",
      "    Data architecte       0.68      0.97      0.80       354\n",
      "      Data engineer       0.96      0.67      0.79       421\n",
      "     Data scientist       0.90      0.71      0.79       696\n",
      "Lead data scientist       0.46      0.73      0.57       218\n",
      "\n",
      "           accuracy                           0.76      1689\n",
      "          macro avg       0.75      0.77      0.74      1689\n",
      "       weighted avg       0.81      0.76      0.76      1689\n",
      "\n"
     ]
    }
   ],
   "source": [
    "y_final_pred_ovr_oversample = oversample_ovr_pipeline.predict(X_first_selection_test)\n",
    "print(classification_report(y_test, y_final_pred_ovr_oversample, target_names=le.classes_))"
   ]
  },
  {
   "cell_type": "code",
   "execution_count": 69,
   "id": "37aebb81",
   "metadata": {
    "ExecuteTime": {
     "end_time": "2022-06-07T13:02:37.028875Z",
     "start_time": "2022-06-07T13:02:37.002738Z"
    }
   },
   "outputs": [
    {
     "name": "stdout",
     "output_type": "stream",
     "text": [
      "                     precision    recall  f1-score   support\n",
      "\n",
      "    Data architecte       0.69      0.95      0.80       354\n",
      "      Data engineer       0.95      0.69      0.80       421\n",
      "     Data scientist       0.88      0.74      0.80       696\n",
      "Lead data scientist       0.47      0.67      0.55       218\n",
      "\n",
      "           accuracy                           0.76      1689\n",
      "          macro avg       0.75      0.76      0.74      1689\n",
      "       weighted avg       0.81      0.76      0.77      1689\n",
      "\n"
     ]
    }
   ],
   "source": [
    "y_final_pred_etc_first_selection = etc_oversample.predict(X_first_selection_test)\n",
    "print(classification_report(y_test, y_final_pred_etc_first_selection, target_names=le.classes_))"
   ]
  },
  {
   "cell_type": "markdown",
   "id": "20ea7d91",
   "metadata": {},
   "source": [
    "I prefer the results of the random forest so I will chose it"
   ]
  },
  {
   "cell_type": "code",
   "execution_count": null,
   "id": "659c8d7c",
   "metadata": {},
   "outputs": [],
   "source": []
  }
 ],
 "metadata": {
  "kernelspec": {
   "display_name": "Python 3 (ipykernel)",
   "language": "python",
   "name": "python3"
  },
  "language_info": {
   "codemirror_mode": {
    "name": "ipython",
    "version": 3
   },
   "file_extension": ".py",
   "mimetype": "text/x-python",
   "name": "python",
   "nbconvert_exporter": "python",
   "pygments_lexer": "ipython3",
   "version": "3.9.13"
  }
 },
 "nbformat": 4,
 "nbformat_minor": 5
}
